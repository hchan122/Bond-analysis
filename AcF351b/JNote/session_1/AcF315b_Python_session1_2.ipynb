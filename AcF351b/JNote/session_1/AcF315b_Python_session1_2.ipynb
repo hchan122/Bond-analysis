{
 "cells": [
  {
   "cell_type": "markdown",
   "metadata": {
    "slideshow": {
     "slide_type": "slide"
    }
   },
   "source": [
    "# 3. Python Built-in Data Structure"
   ]
  },
  {
   "cell_type": "markdown",
   "metadata": {
    "slideshow": {
     "slide_type": "slide"
    }
   },
   "source": [
    "## List"
   ]
  },
  {
   "cell_type": "markdown",
   "metadata": {
    "slideshow": {
     "slide_type": "fragment"
    }
   },
   "source": [
    "Python lists are very versatile containers (boxes) that are extremely userful in many circumstances. A list in Python, defined using brackets `[]`, is an ordered collection of objects that can contain arbitrary numbers of Python objects, such as strings, integers, floats, lists or others. All these data points can be accessed using numerical index."
   ]
  },
  {
   "cell_type": "markdown",
   "metadata": {
    "slideshow": {
     "slide_type": "subslide"
    }
   },
   "source": [
    "#### Todos\n",
    "1. Create Python list\n",
    "2. Access, modify, and delete list elements\n",
    "3. Merge lists\n",
    "4. Use the slicing synatx to operate on sublists\n",
    "5. Loop over lists"
   ]
  },
  {
   "cell_type": "markdown",
   "metadata": {
    "slideshow": {
     "slide_type": "slide"
    }
   },
   "source": [
    "### Create a list"
   ]
  },
  {
   "cell_type": "code",
   "execution_count": 3,
   "metadata": {
    "slideshow": {
     "slide_type": "fragment"
    }
   },
   "outputs": [],
   "source": [
    "city = [\"Lancaster\", \"Warwick\", \"Lancaster\", \"Bath\"]"
   ]
  },
  {
   "cell_type": "markdown",
   "metadata": {
    "slideshow": {
     "slide_type": "slide"
    }
   },
   "source": [
    "### Access list elements"
   ]
  },
  {
   "cell_type": "markdown",
   "metadata": {
    "slideshow": {
     "slide_type": "fragment"
    }
   },
   "source": [
    "Python follows C's convention of starting from zero as numerical index. This means, if we have a list of length $n$, the first element of the list is at index $0$ (think of location), the second is at index $1$, and so on and so forth. So be careful that, the last element of the list will be at index $n-1$."
   ]
  },
  {
   "cell_type": "markdown",
   "metadata": {
    "slideshow": {
     "slide_type": "slide"
    }
   },
   "source": [
    "To get the **first** element in the above list, we type:"
   ]
  },
  {
   "cell_type": "code",
   "execution_count": 4,
   "metadata": {
    "slideshow": {
     "slide_type": "fragment"
    }
   },
   "outputs": [
    {
     "data": {
      "text/plain": [
       "'Lancaster'"
      ]
     },
     "execution_count": 4,
     "metadata": {},
     "output_type": "execute_result"
    }
   ],
   "source": [
    "# Python is inspired by C\n",
    "# follows C's convention that index starts with 0\n",
    "city[0]"
   ]
  },
  {
   "cell_type": "markdown",
   "metadata": {
    "slideshow": {
     "slide_type": "slide"
    }
   },
   "source": [
    "How about the **last** element?"
   ]
  },
  {
   "cell_type": "code",
   "execution_count": 5,
   "metadata": {
    "slideshow": {
     "slide_type": "fragment"
    }
   },
   "outputs": [
    {
     "data": {
      "text/plain": [
       "'Bath'"
      ]
     },
     "execution_count": 5,
     "metadata": {},
     "output_type": "execute_result"
    }
   ],
   "source": [
    "city[-1]"
   ]
  },
  {
   "cell_type": "markdown",
   "metadata": {
    "slideshow": {
     "slide_type": "slide"
    }
   },
   "source": [
    "#### mix of strings and numbers"
   ]
  },
  {
   "cell_type": "code",
   "execution_count": 7,
   "metadata": {
    "slideshow": {
     "slide_type": "fragment"
    }
   },
   "outputs": [],
   "source": [
    "mix = [1, [2, 3], 'Python rocks!', True]"
   ]
  },
  {
   "cell_type": "markdown",
   "metadata": {
    "slideshow": {
     "slide_type": "slide"
    }
   },
   "source": [
    "#### manipulate lists"
   ]
  },
  {
   "cell_type": "code",
   "execution_count": 8,
   "metadata": {
    "scrolled": false,
    "slideshow": {
     "slide_type": "slide"
    }
   },
   "outputs": [
    {
     "name": "stdout",
     "output_type": "stream",
     "text": [
      "['Lancaster', 'Warwick', 'Lancaster', 'Bath', 'Manchester', 'Manchester']\n"
     ]
    }
   ],
   "source": [
    "# add a single element to the end of the list\n",
    "city.append('Manchester')\n",
    "print(city)"
   ]
  },
  {
   "cell_type": "code",
   "execution_count": 9,
   "metadata": {
    "scrolled": true,
    "slideshow": {
     "slide_type": "fragment"
    }
   },
   "outputs": [
    {
     "name": "stdout",
     "output_type": "stream",
     "text": [
      "['Cambridge', 'Lancaster', 'Warwick', 'Lancaster', 'Bath', 'Manchester', 'Manchester']\n"
     ]
    }
   ],
   "source": [
    "# insert an element into a specific location\n",
    "city.insert(0, \"Cambridge\")\n",
    "print(city)"
   ]
  },
  {
   "cell_type": "code",
   "execution_count": 10,
   "metadata": {
    "slideshow": {
     "slide_type": "slide"
    }
   },
   "outputs": [],
   "source": [
    "# update an element\n",
    "city[0] = \"Oxford\""
   ]
  },
  {
   "cell_type": "code",
   "execution_count": 11,
   "metadata": {
    "slideshow": {
     "slide_type": "fragment"
    }
   },
   "outputs": [
    {
     "name": "stdout",
     "output_type": "stream",
     "text": [
      "['Oxford', 'Lancaster', 'Warwick', 'Lancaster', 'Bath', 'Manchester', 'Manchester', 'York', 'Edinburgh']\n"
     ]
    }
   ],
   "source": [
    "# add another list\n",
    "city.extend(['York', 'Edinburgh'])\n",
    "print(city)"
   ]
  },
  {
   "cell_type": "code",
   "execution_count": 12,
   "metadata": {
    "slideshow": {
     "slide_type": "fragment"
    }
   },
   "outputs": [
    {
     "name": "stdout",
     "output_type": "stream",
     "text": [
      "['Oxford', 'Lancaster', 'Warwick', 'Lancaster', 'Bath', 'Manchester', 'Manchester', 'York', 'Edinburgh', 'Liverpool', 'Glasgow']\n"
     ]
    }
   ],
   "source": [
    "# or just + sign\n",
    "city = city + ['Liverpool', 'Glasgow']\n",
    "print(city)"
   ]
  },
  {
   "cell_type": "code",
   "execution_count": 13,
   "metadata": {
    "slideshow": {
     "slide_type": "slide"
    }
   },
   "outputs": [
    {
     "name": "stdout",
     "output_type": "stream",
     "text": [
      "['Lancaster', 'Warwick', 'Lancaster', 'Bath', 'Manchester', 'Manchester', 'York', 'Edinburgh', 'Liverpool', 'Glasgow']\n"
     ]
    }
   ],
   "source": [
    "# delete element by index\n",
    "del city[0]\n",
    "print(city)"
   ]
  },
  {
   "cell_type": "code",
   "execution_count": 14,
   "metadata": {
    "slideshow": {
     "slide_type": "fragment"
    }
   },
   "outputs": [
    {
     "name": "stdout",
     "output_type": "stream",
     "text": [
      "['Lancaster', 'Warwick', 'Lancaster', 'Bath', 'Manchester', 'Manchester', 'York', 'Edinburgh', 'Liverpool']\n"
     ]
    }
   ],
   "source": [
    "# or by value\n",
    "city.remove(\"Glasgow\")\n",
    "print(city)"
   ]
  },
  {
   "cell_type": "code",
   "execution_count": 15,
   "metadata": {
    "slideshow": {
     "slide_type": "fragment"
    }
   },
   "outputs": [
    {
     "name": "stdout",
     "output_type": "stream",
     "text": [
      "['Bath', 'Edinburgh', 'Lancaster', 'Lancaster', 'Liverpool', 'Manchester', 'Manchester', 'Warwick', 'York']\n"
     ]
    }
   ],
   "source": [
    "# sort list\n",
    "city.sort()\n",
    "print(city)"
   ]
  },
  {
   "cell_type": "markdown",
   "metadata": {
    "slideshow": {
     "slide_type": "slide"
    }
   },
   "source": [
    "#### Slice a list"
   ]
  },
  {
   "cell_type": "code",
   "execution_count": 16,
   "metadata": {
    "slideshow": {
     "slide_type": "fragment"
    }
   },
   "outputs": [],
   "source": [
    "# slice list by using (:)\n",
    "sq = [0, 1, 4, 9, 16, 25, 36, 49, 64, 81, 100]"
   ]
  },
  {
   "cell_type": "markdown",
   "metadata": {
    "slideshow": {
     "slide_type": "slide"
    }
   },
   "source": [
    "#### another counterintuitive convention"
   ]
  },
  {
   "cell_type": "markdown",
   "metadata": {
    "slideshow": {
     "slide_type": "fragment"
    }
   },
   "source": [
    "We can select a group of elements in a list starting from the first element indicated and going up to (**but not including**) the last element indicated. For example:"
   ]
  },
  {
   "cell_type": "code",
   "execution_count": 17,
   "metadata": {
    "slideshow": {
     "slide_type": "fragment"
    }
   },
   "outputs": [
    {
     "data": {
      "text/plain": [
       "[0, 1, 4]"
      ]
     },
     "execution_count": 17,
     "metadata": {},
     "output_type": "execute_result"
    }
   ],
   "source": [
    "# to get the first three element\n",
    "sq[0:3] # Remember index starts with 0"
   ]
  },
  {
   "cell_type": "markdown",
   "metadata": {
    "slideshow": {
     "slide_type": "slide"
    }
   },
   "source": [
    "We can select everything in a list"
   ]
  },
  {
   "cell_type": "code",
   "execution_count": 18,
   "metadata": {
    "slideshow": {
     "slide_type": "fragment"
    }
   },
   "outputs": [
    {
     "data": {
      "text/plain": [
       "[0, 1, 4, 9, 16, 25, 36, 49, 64, 81, 100]"
      ]
     },
     "execution_count": 18,
     "metadata": {},
     "output_type": "execute_result"
    }
   ],
   "source": [
    "sq[:]"
   ]
  },
  {
   "cell_type": "markdown",
   "metadata": {
    "slideshow": {
     "slide_type": "slide"
    }
   },
   "source": [
    "We can select everything before or after a certain point"
   ]
  },
  {
   "cell_type": "code",
   "execution_count": 19,
   "metadata": {
    "slideshow": {
     "slide_type": "fragment"
    }
   },
   "outputs": [
    {
     "data": {
      "text/plain": [
       "[64, 81, 100]"
      ]
     },
     "execution_count": 19,
     "metadata": {},
     "output_type": "execute_result"
    }
   ],
   "source": [
    "# starting from the eighth element\n",
    "sq[8:]"
   ]
  },
  {
   "cell_type": "code",
   "execution_count": 20,
   "metadata": {
    "slideshow": {
     "slide_type": "fragment"
    }
   },
   "outputs": [
    {
     "data": {
      "text/plain": [
       "[0, 1, 4]"
      ]
     },
     "execution_count": 20,
     "metadata": {},
     "output_type": "execute_result"
    }
   ],
   "source": [
    "# another way to get the first three elements\n",
    "sq[:3]"
   ]
  },
  {
   "cell_type": "markdown",
   "metadata": {
    "slideshow": {
     "slide_type": "slide"
    }
   },
   "source": [
    "We can also add a third component to slice a list, which is the step size we want to take. So instead of taking every single element, we can take every other element. For instance:"
   ]
  },
  {
   "cell_type": "code",
   "execution_count": 21,
   "metadata": {
    "slideshow": {
     "slide_type": "fragment"
    }
   },
   "outputs": [
    {
     "data": {
      "text/plain": [
       "[0, 4, 16, 36, 64, 100]"
      ]
     },
     "execution_count": 21,
     "metadata": {},
     "output_type": "execute_result"
    }
   ],
   "source": [
    "# the max index for the list is 10\n",
    "# if using 10 as the second component, the last element will be excluded\n",
    "sq[::2]"
   ]
  },
  {
   "cell_type": "markdown",
   "metadata": {
    "slideshow": {
     "slide_type": "slide"
    }
   },
   "source": [
    "### loop through lists"
   ]
  },
  {
   "cell_type": "markdown",
   "metadata": {
    "slideshow": {
     "slide_type": "fragment"
    }
   },
   "source": [
    "We can create an empty list for university names and loop through all the cities in the list `city` and add \"University of\" to city names:"
   ]
  },
  {
   "cell_type": "code",
   "execution_count": 22,
   "metadata": {
    "slideshow": {
     "slide_type": "fragment"
    }
   },
   "outputs": [
    {
     "name": "stdout",
     "output_type": "stream",
     "text": [
      "['University of Bath', 'University of Edinburgh', 'University of Lancaster', 'University of Lancaster', 'University of Liverpool', 'University of Manchester', 'University of Manchester', 'University of Warwick', 'University of York']\n"
     ]
    }
   ],
   "source": [
    "uni = []\n",
    "for i in range(len(city)): # len() returns numbers of elements\n",
    "    uni.append(\"University of {}\".format(city[i]))\n",
    "\n",
    "print(uni)"
   ]
  },
  {
   "cell_type": "markdown",
   "metadata": {
    "slideshow": {
     "slide_type": "slide"
    }
   },
   "source": [
    "We can also do mathematical operations on each element in a list"
   ]
  },
  {
   "cell_type": "code",
   "execution_count": 23,
   "metadata": {
    "slideshow": {
     "slide_type": "fragment"
    }
   },
   "outputs": [
    {
     "name": "stdout",
     "output_type": "stream",
     "text": [
      "square root for 0 is 0\n",
      "square root for 1 is 1\n",
      "square root for 4 is 2\n",
      "square root for 9 is 3\n",
      "square root for 16 is 4\n",
      "square root for 25 is 5\n",
      "square root for 36 is 6\n",
      "square root for 49 is 7\n",
      "square root for 64 is 8\n",
      "square root for 81 is 9\n",
      "square root for 100 is 10\n"
     ]
    }
   ],
   "source": [
    "import math\n",
    "\n",
    "for value in sq:\n",
    "    print(\"square root for {} is {}\".format(value, int(math.sqrt(value))))"
   ]
  },
  {
   "cell_type": "code",
   "execution_count": 24,
   "metadata": {
    "slideshow": {
     "slide_type": "slide"
    }
   },
   "outputs": [
    {
     "name": "stdout",
     "output_type": "stream",
     "text": [
      "# 1 element ==> 0\n",
      "# 2 element ==> 1\n",
      "# 3 element ==> 4\n",
      "# 4 element ==> 9\n",
      "# 5 element ==> 16\n",
      "# 6 element ==> 25\n",
      "# 7 element ==> 36\n",
      "# 8 element ==> 49\n",
      "# 9 element ==> 64\n",
      "# 10 element ==> 81\n",
      "# 11 element ==> 100\n"
     ]
    }
   ],
   "source": [
    "# even better\n",
    "for index, value in enumerate(sq):\n",
    "    print(\"# {} element ==> {}\".format(index+1, value))"
   ]
  },
  {
   "cell_type": "markdown",
   "metadata": {
    "slideshow": {
     "slide_type": "slide"
    }
   },
   "source": [
    "#### Useful built-in function `range()` to generate lists"
   ]
  },
  {
   "cell_type": "code",
   "execution_count": null,
   "metadata": {
    "slideshow": {
     "slide_type": "fragment"
    }
   },
   "outputs": [],
   "source": [
    "my_range = range(10) # <= a total of 10 numbers\n",
    "\n",
    "for element in my_range:\n",
    "    print(element)"
   ]
  },
  {
   "cell_type": "markdown",
   "metadata": {
    "slideshow": {
     "slide_type": "slide"
    }
   },
   "source": [
    "#### Strings are lists of characters!"
   ]
  },
  {
   "cell_type": "markdown",
   "metadata": {
    "slideshow": {
     "slide_type": "fragment"
    }
   },
   "source": [
    "We already know that strings are basically text. In Python, strings are also indexed much in the same way that lists are, which means that we can do use built-in operations to access, slice, and update strings easily depending on what we need."
   ]
  },
  {
   "cell_type": "code",
   "execution_count": null,
   "metadata": {
    "slideshow": {
     "slide_type": "fragment"
    }
   },
   "outputs": [],
   "source": [
    "my_string = \"I love Python!\"\n",
    "print(my_string[0]) # \"I\"\n",
    "print(my_string[2:6]) # \"Love\"\n",
    "print(my_string[::-1]) # reverse it!"
   ]
  },
  {
   "cell_type": "markdown",
   "metadata": {
    "slideshow": {
     "slide_type": "subslide"
    }
   },
   "source": [
    "Regular Expression is a powerful engine to deal with text and is widely used in programming and data analysis. We will see an example at the end of today's session."
   ]
  },
  {
   "cell_type": "markdown",
   "metadata": {
    "slideshow": {
     "slide_type": "slide"
    }
   },
   "source": [
    "### Tuple and Set"
   ]
  },
  {
   "cell_type": "markdown",
   "metadata": {
    "slideshow": {
     "slide_type": "fragment"
    }
   },
   "source": [
    "While we can do everything we want in a list, a special form of data container, very similar to list, is `tuple`. The only difference is that we cannot modify a tuple once defined as we do to a list. Tuple is defined using `( )`."
   ]
  },
  {
   "cell_type": "code",
   "execution_count": null,
   "metadata": {
    "slideshow": {
     "slide_type": "fragment"
    }
   },
   "outputs": [],
   "source": [
    "my_tuple = (\"I\", \"want\", \"my\", \"lunch\")\n",
    "print(my_tuple)"
   ]
  },
  {
   "cell_type": "code",
   "execution_count": null,
   "metadata": {
    "slideshow": {
     "slide_type": "fragment"
    }
   },
   "outputs": [],
   "source": [
    "my_tuple[3] = \"dinner\" # error if we attempt to update tuple"
   ]
  },
  {
   "cell_type": "markdown",
   "metadata": {
    "slideshow": {
     "slide_type": "slide"
    }
   },
   "source": [
    "A `set` is a collection of unordered but unique elements, defined using curl brackets `{ }`. Note: indexing is not working for `set` but instead we can check if an element is in a set or not."
   ]
  },
  {
   "cell_type": "code",
   "execution_count": null,
   "metadata": {
    "slideshow": {
     "slide_type": "fragment"
    }
   },
   "outputs": [],
   "source": [
    "uni_set = set(uni)"
   ]
  },
  {
   "cell_type": "markdown",
   "metadata": {
    "slideshow": {
     "slide_type": "slide"
    }
   },
   "source": [
    "## Dictionary"
   ]
  },
  {
   "cell_type": "markdown",
   "metadata": {
    "slideshow": {
     "slide_type": "fragment"
    }
   },
   "source": [
    "Another essential data structure in Python is the dictionary. Dictionaries are defined with a combination of curly braces (`{ }`) and colons (`:`). The braces define the beginning and end of a dictionary and the colons indicate key-value pairs. A dictionary is essentially a set of `key-value pairs`. \n",
    "\n",
    "Dictionary is very close to an Excel spreadsheet or table, with `key` as column name and `value` as row value"
   ]
  },
  {
   "cell_type": "markdown",
   "metadata": {
    "slideshow": {
     "slide_type": "slide"
    }
   },
   "source": [
    "### Todos\n",
    "1. Create Python dictionaries\n",
    "2. Access, modify, and delete dictionary items\n",
    "3. Merge dictionaries\n",
    "4. Loop over dictionary keys, values, and items"
   ]
  },
  {
   "cell_type": "markdown",
   "metadata": {
    "slideshow": {
     "slide_type": "slide"
    }
   },
   "source": [
    "#### Create a dictionary"
   ]
  },
  {
   "cell_type": "code",
   "execution_count": null,
   "metadata": {
    "slideshow": {
     "slide_type": "fragment"
    }
   },
   "outputs": [],
   "source": [
    "capitals = {'China': 'Beijing',\n",
    "            'United Kingdom': 'London',\n",
    "            'France': 'Paris',\n",
    "            'Italy': 'Rome'}"
   ]
  },
  {
   "cell_type": "markdown",
   "metadata": {
    "slideshow": {
     "slide_type": "slide"
    }
   },
   "source": [
    "#### Accessing dictionaries items"
   ]
  },
  {
   "cell_type": "markdown",
   "metadata": {
    "slideshow": {
     "slide_type": "fragment"
    }
   },
   "source": [
    "Instead of using numerical index as we did in a list, we can use a more intuitive approach in a dictionary."
   ]
  },
  {
   "cell_type": "code",
   "execution_count": null,
   "metadata": {
    "slideshow": {
     "slide_type": "fragment"
    }
   },
   "outputs": [],
   "source": [
    "capitals['China']"
   ]
  },
  {
   "cell_type": "markdown",
   "metadata": {
    "slideshow": {
     "slide_type": "slide"
    }
   },
   "source": [
    "#### Add items to dictionary"
   ]
  },
  {
   "cell_type": "code",
   "execution_count": null,
   "metadata": {
    "slideshow": {
     "slide_type": "fragment"
    }
   },
   "outputs": [],
   "source": [
    "capitals['United States'] = 'Washington, DC'"
   ]
  },
  {
   "cell_type": "code",
   "execution_count": null,
   "metadata": {
    "slideshow": {
     "slide_type": "fragment"
    }
   },
   "outputs": [],
   "source": [
    "capitals"
   ]
  },
  {
   "cell_type": "markdown",
   "metadata": {
    "slideshow": {
     "slide_type": "slide"
    }
   },
   "source": [
    "if we call a key from the dictionary, but there is no such pair in our container/box/data, then we get an error"
   ]
  },
  {
   "cell_type": "code",
   "execution_count": null,
   "metadata": {
    "slideshow": {
     "slide_type": "fragment"
    }
   },
   "outputs": [],
   "source": [
    "capitals['Germany']"
   ]
  },
  {
   "cell_type": "markdown",
   "metadata": {
    "slideshow": {
     "slide_type": "slide"
    }
   },
   "source": [
    "#### Check if an item belongs to a dictionary"
   ]
  },
  {
   "cell_type": "code",
   "execution_count": null,
   "metadata": {
    "slideshow": {
     "slide_type": "fragment"
    }
   },
   "outputs": [],
   "source": [
    "'Germany' in capitals # Python knows that you are talking about keys"
   ]
  },
  {
   "cell_type": "code",
   "execution_count": null,
   "metadata": {
    "slideshow": {
     "slide_type": "fragment"
    }
   },
   "outputs": [],
   "source": [
    "'United Kingdom' in capitals"
   ]
  },
  {
   "cell_type": "markdown",
   "metadata": {
    "slideshow": {
     "slide_type": "slide"
    }
   },
   "source": [
    "#### Combine dictionaries"
   ]
  },
  {
   "cell_type": "code",
   "execution_count": null,
   "metadata": {
    "slideshow": {
     "slide_type": "fragment"
    }
   },
   "outputs": [],
   "source": [
    "morecapitals = {'Germany': 'Berlin',\n",
    "                'Japan': 'Tokyo'}"
   ]
  },
  {
   "cell_type": "code",
   "execution_count": null,
   "metadata": {
    "slideshow": {
     "slide_type": "fragment"
    }
   },
   "outputs": [],
   "source": [
    "capitals.update(morecapitals)\n",
    "capitals"
   ]
  },
  {
   "cell_type": "markdown",
   "metadata": {
    "slideshow": {
     "slide_type": "slide"
    }
   },
   "source": [
    "#### Delete Key-Value pair"
   ]
  },
  {
   "cell_type": "code",
   "execution_count": null,
   "metadata": {
    "slideshow": {
     "slide_type": "fragment"
    }
   },
   "outputs": [],
   "source": [
    "del capitals['United States']\n",
    "capitals"
   ]
  },
  {
   "cell_type": "markdown",
   "metadata": {
    "slideshow": {
     "slide_type": "slide"
    }
   },
   "source": [
    "#### Dictionaries are useful with `loop`"
   ]
  },
  {
   "cell_type": "code",
   "execution_count": null,
   "metadata": {
    "slideshow": {
     "slide_type": "fragment"
    }
   },
   "outputs": [],
   "source": [
    "# if we want to know what are the keys we have in the dictionary\n",
    "# loop through keys\n",
    "for key in capitals.keys():\n",
    "    print(key)"
   ]
  },
  {
   "cell_type": "code",
   "execution_count": null,
   "metadata": {
    "slideshow": {
     "slide_type": "fragment"
    }
   },
   "outputs": [],
   "source": [
    "# if we want to know what values we stored\n",
    "# loop through values\n",
    "for value in capitals.values():\n",
    "    print(value)"
   ]
  },
  {
   "cell_type": "code",
   "execution_count": null,
   "metadata": {
    "slideshow": {
     "slide_type": "slide"
    }
   },
   "outputs": [],
   "source": [
    "# or loop over pairs\n",
    "for key, value in capitals.items():\n",
    "    print(key, value)"
   ]
  },
  {
   "cell_type": "markdown",
   "metadata": {
    "slideshow": {
     "slide_type": "slide"
    }
   },
   "source": [
    "### Comprehensions\n",
    "In python programming, especially when dealing with data, there are many cases where we want to iterate over or loop through list or dictionary, perform an operation on every element, and then collect the results in a new list or dictionary for future analysis.\n",
    "\n",
    "We can certainly perform this with a traditional `for` loop but Python offers a better approach, comprehensions, which let us write shorter and cleaner codes that acchieves the same effect."
   ]
  },
  {
   "cell_type": "markdown",
   "metadata": {
    "slideshow": {
     "slide_type": "slide"
    }
   },
   "source": [
    "#### Todos\n",
    "1. rewrite a loop as a comprehensions\n",
    "2. filter items\n",
    "3. create a list or a dictionary from a comprehensions"
   ]
  },
  {
   "cell_type": "markdown",
   "metadata": {
    "slideshow": {
     "slide_type": "slide"
    }
   },
   "source": [
    "#### Create a list using `for` loop"
   ]
  },
  {
   "cell_type": "code",
   "execution_count": null,
   "metadata": {
    "slideshow": {
     "slide_type": "fragment"
    }
   },
   "outputs": [],
   "source": [
    "sq = []\n",
    "for i in range(10):\n",
    "    sq.append(i**2)\n",
    "sq"
   ]
  },
  {
   "cell_type": "markdown",
   "metadata": {
    "slideshow": {
     "slide_type": "slide"
    }
   },
   "source": [
    "#### Create a list using `comprehension`"
   ]
  },
  {
   "cell_type": "code",
   "execution_count": null,
   "metadata": {
    "slideshow": {
     "slide_type": "fragment"
    }
   },
   "outputs": [],
   "source": [
    "# inline for loop\n",
    "sq = [i**2 for i in range(10)]\n",
    "sq"
   ]
  },
  {
   "cell_type": "markdown",
   "metadata": {
    "slideshow": {
     "slide_type": "slide"
    }
   },
   "source": [
    "#### Filter elements in a list using `for` loop"
   ]
  },
  {
   "cell_type": "code",
   "execution_count": null,
   "metadata": {
    "slideshow": {
     "slide_type": "fragment"
    }
   },
   "outputs": [],
   "source": [
    "sq = []\n",
    "for i in range(10):\n",
    "    if i < 5:\n",
    "        sq.append(i**2)\n",
    "sq"
   ]
  },
  {
   "cell_type": "markdown",
   "metadata": {
    "slideshow": {
     "slide_type": "slide"
    }
   },
   "source": [
    "#### Filter elements in a list using `comprehension`"
   ]
  },
  {
   "cell_type": "code",
   "execution_count": null,
   "metadata": {
    "slideshow": {
     "slide_type": "fragment"
    }
   },
   "outputs": [],
   "source": [
    "# if condition\n",
    "sq = [i**2 for i in range(10) if i < 5]\n",
    "sq"
   ]
  },
  {
   "cell_type": "markdown",
   "metadata": {
    "slideshow": {
     "slide_type": "slide"
    }
   },
   "source": [
    "#### Create a dictionary using `comprehension`"
   ]
  },
  {
   "cell_type": "code",
   "execution_count": null,
   "metadata": {
    "slideshow": {
     "slide_type": "fragment"
    }
   },
   "outputs": [],
   "source": [
    "i_sq = {i: i**2 for i in range(10) if i < 5}"
   ]
  },
  {
   "cell_type": "code",
   "execution_count": null,
   "metadata": {
    "slideshow": {
     "slide_type": "fragment"
    }
   },
   "outputs": [],
   "source": [
    "i_sq"
   ]
  },
  {
   "cell_type": "markdown",
   "metadata": {
    "slideshow": {
     "slide_type": "slide"
    }
   },
   "source": [
    "### TASK: Can you use a comprehension to transpose key and value of the dictionary `capitals`?"
   ]
  },
  {
   "cell_type": "markdown",
   "metadata": {
    "slideshow": {
     "slide_type": "slide"
    }
   },
   "source": [
    "# 4. Flow Control/Logical Statements"
   ]
  },
  {
   "cell_type": "markdown",
   "metadata": {
    "slideshow": {
     "slide_type": "slide"
    }
   },
   "source": [
    "### Basic Logic"
   ]
  },
  {
   "cell_type": "markdown",
   "metadata": {
    "slideshow": {
     "slide_type": "fragment"
    }
   },
   "source": [
    "If you recall, a boolean takes one of the two values, `True` or `False` (sometimes 1 or 0). The basic logical statements that we can make are defined using Python built-in **comparison operators**:\n",
    "\n",
    "- `==`: equal to\n",
    "- `!=`: NOT equal to\n",
    "- `<`: less than\n",
    "- `<=`: less than or equal to\n",
    "- `>`: greater than\n",
    "- `>=`: greater than or equal to"
   ]
  },
  {
   "cell_type": "code",
   "execution_count": null,
   "metadata": {
    "slideshow": {
     "slide_type": "slide"
    }
   },
   "outputs": [],
   "source": [
    "1 == 1"
   ]
  },
  {
   "cell_type": "code",
   "execution_count": null,
   "metadata": {
    "slideshow": {
     "slide_type": "fragment"
    }
   },
   "outputs": [],
   "source": [
    "2.0 != 2"
   ]
  },
  {
   "cell_type": "code",
   "execution_count": null,
   "metadata": {
    "slideshow": {
     "slide_type": "fragment"
    }
   },
   "outputs": [],
   "source": [
    "3 > 3"
   ]
  },
  {
   "cell_type": "code",
   "execution_count": null,
   "metadata": {
    "slideshow": {
     "slide_type": "fragment"
    }
   },
   "outputs": [],
   "source": [
    "3 >= 3"
   ]
  },
  {
   "cell_type": "markdown",
   "metadata": {
    "slideshow": {
     "slide_type": "slide"
    }
   },
   "source": [
    "#### Boolean Operators"
   ]
  },
  {
   "cell_type": "markdown",
   "metadata": {
    "slideshow": {
     "slide_type": "fragment"
    }
   },
   "source": [
    "We can also put various comparisons together using `Boolean Operators`:\n",
    "- `and`: and\n",
    "- `or`: or\n",
    "- `not`: not"
   ]
  },
  {
   "cell_type": "code",
   "execution_count": null,
   "metadata": {
    "slideshow": {
     "slide_type": "slide"
    }
   },
   "outputs": [],
   "source": [
    "True and True"
   ]
  },
  {
   "cell_type": "code",
   "execution_count": null,
   "metadata": {
    "slideshow": {
     "slide_type": "fragment"
    }
   },
   "outputs": [],
   "source": [
    "True and False"
   ]
  },
  {
   "cell_type": "code",
   "execution_count": null,
   "metadata": {
    "slideshow": {
     "slide_type": "fragment"
    }
   },
   "outputs": [],
   "source": [
    "(1 == 0) and (1 < 2)"
   ]
  },
  {
   "cell_type": "code",
   "execution_count": null,
   "metadata": {
    "slideshow": {
     "slide_type": "fragment"
    }
   },
   "outputs": [],
   "source": [
    "(1 == 0) or (1 < 2)"
   ]
  },
  {
   "cell_type": "code",
   "execution_count": null,
   "metadata": {
    "slideshow": {
     "slide_type": "fragment"
    }
   },
   "outputs": [],
   "source": [
    "not (1 == 0) and (1 < 2)"
   ]
  },
  {
   "cell_type": "markdown",
   "metadata": {
    "slideshow": {
     "slide_type": "slide"
    }
   },
   "source": [
    "#### Truthiness\n",
    "As a general rule, containers like strings, tuples, dictionaries, lists, and sets, will return `True` if they contain anything at all and `False` if they contain nothing."
   ]
  },
  {
   "cell_type": "code",
   "execution_count": null,
   "metadata": {
    "slideshow": {
     "slide_type": "slide"
    }
   },
   "outputs": [],
   "source": [
    "bool('')"
   ]
  },
  {
   "cell_type": "code",
   "execution_count": null,
   "metadata": {
    "slideshow": {
     "slide_type": "fragment"
    }
   },
   "outputs": [],
   "source": [
    "bool('I am not empty')"
   ]
  },
  {
   "cell_type": "code",
   "execution_count": null,
   "metadata": {
    "slideshow": {
     "slide_type": "fragment"
    }
   },
   "outputs": [],
   "source": [
    "bool([])"
   ]
  },
  {
   "cell_type": "markdown",
   "metadata": {
    "slideshow": {
     "slide_type": "slide"
    }
   },
   "source": [
    "This feature becomes very handy if we need to test if a variable or any object exists in Python's memory so that we can avoid errors."
   ]
  },
  {
   "cell_type": "code",
   "execution_count": null,
   "metadata": {
    "slideshow": {
     "slide_type": "fragment"
    }
   },
   "outputs": [],
   "source": [
    "bool(capitals['China'])"
   ]
  },
  {
   "cell_type": "markdown",
   "metadata": {
    "slideshow": {
     "slide_type": "slide"
    }
   },
   "source": [
    "### If-statements\n",
    "We can create segments of code that only execute if a set of `conditions` is met. \n",
    "\n",
    "We use if-statements in conjunction with logical statements in order to create `branches` in our code.\n",
    "\n",
    "An `if branch` gets executed when the `condition` is considered to be `True`. If condition is evaluated as `False`, the if block will simply be skipped unless there is an `else branch`. \n",
    "\n",
    "Conditions are made using either logical operators or by using the truthiness of values in Python. An if-statement is defined with a colon and a block of indented text:"
   ]
  },
  {
   "cell_type": "code",
   "execution_count": null,
   "metadata": {
    "slideshow": {
     "slide_type": "slide"
    }
   },
   "outputs": [],
   "source": [
    "# Multiple-branch logical statements\n",
    "\n",
    "if \"Condition_1\":         # First check Condition_1\n",
    "    print(\"1\")            # If met, take action and finish\n",
    "elif not \"Condition_2\":   # If not met, check Condition_2\n",
    "    print(\"not 2\")        # If met, take action and finish\n",
    "else:                     # If not met, check other Conditions\n",
    "    print(\"never see me\") # take action and finish the operation"
   ]
  },
  {
   "cell_type": "code",
   "execution_count": null,
   "metadata": {
    "slideshow": {
     "slide_type": "slide"
    }
   },
   "outputs": [],
   "source": [
    "capitals"
   ]
  },
  {
   "cell_type": "code",
   "execution_count": null,
   "metadata": {
    "slideshow": {
     "slide_type": "slide"
    }
   },
   "outputs": [],
   "source": [
    "# Test if data exists\n",
    "if capitals['United States']: # truthiness\n",
    "    print('Yes!')\n",
    "# if not, we can then add US\n",
    "else:\n",
    "    capitals['United States'] = 'Washington, DC'"
   ]
  },
  {
   "cell_type": "markdown",
   "metadata": {
    "slideshow": {
     "slide_type": "slide"
    }
   },
   "source": [
    "Multiple Conditions:"
   ]
  },
  {
   "cell_type": "code",
   "execution_count": null,
   "metadata": {
    "slideshow": {
     "slide_type": "fragment"
    }
   },
   "outputs": [],
   "source": [
    "# name = \"Liang\"\n",
    "# age = 5\n",
    "\n",
    "if name == \"Alice\":\n",
    "    print(\"How are you today, Alice.\")\n",
    "else:\n",
    "    if age < 12:\n",
    "        print(\"You are not Alice, kiddo!\")\n",
    "    elif (age >= 12) and (age <=100):\n",
    "        print(\"You are not Alice, stranger!\")\n",
    "    else:\n",
    "        print(\"You are not Alice, vampire!\")"
   ]
  },
  {
   "cell_type": "markdown",
   "metadata": {
    "slideshow": {
     "slide_type": "slide"
    }
   },
   "source": [
    "### `for` loop"
   ]
  },
  {
   "cell_type": "markdown",
   "metadata": {
    "slideshow": {
     "slide_type": "fragment"
    }
   },
   "source": [
    "As we have seen many times, `for` loop is extremely useful if we need to operate each data point in a container such as lists and dictionaries.\n",
    "\n",
    "Or we only want to do something interesting for a certain number of times such a arcade game!"
   ]
  },
  {
   "cell_type": "markdown",
   "metadata": {
    "slideshow": {
     "slide_type": "slide"
    }
   },
   "source": [
    "### `while` loop"
   ]
  },
  {
   "cell_type": "markdown",
   "metadata": {
    "slideshow": {
     "slide_type": "fragment"
    }
   },
   "source": [
    "We can make a block of code execute over and over again with a `while` statement. The body block (actions) will be executed as long as `while` statement's condition is True."
   ]
  },
  {
   "cell_type": "code",
   "execution_count": null,
   "metadata": {
    "slideshow": {
     "slide_type": "slide"
    }
   },
   "outputs": [],
   "source": [
    "spam = 0\n",
    "\n",
    "while spam < 5:\n",
    "    print(\"Hello World\")\n",
    "    spam = spam + 1"
   ]
  },
  {
   "cell_type": "markdown",
   "metadata": {
    "slideshow": {
     "slide_type": "slide"
    }
   },
   "source": [
    "### break/continue statements"
   ]
  },
  {
   "cell_type": "markdown",
   "metadata": {
    "slideshow": {
     "slide_type": "fragment"
    }
   },
   "source": [
    "Be ware of `infinite loop` since `while` loop can go on and on...\n",
    "We need statements to jump out loops such as break and continue statements"
   ]
  },
  {
   "cell_type": "code",
   "execution_count": null,
   "metadata": {
    "slideshow": {
     "slide_type": "slide"
    }
   },
   "outputs": [],
   "source": [
    "while True:\n",
    "    print(\"Please type your name.\")\n",
    "    name = raw_input()\n",
    "    \n",
    "    if name == 'Alice':\n",
    "        break\n",
    "print(\"Nice to meet you, {}\".format(name))"
   ]
  },
  {
   "cell_type": "code",
   "execution_count": null,
   "metadata": {
    "slideshow": {
     "slide_type": "slide"
    }
   },
   "outputs": [],
   "source": [
    "while True:\n",
    "    print(\"Please input your username\")\n",
    "    name = raw_input()\n",
    "    \n",
    "    if name != 'Huawei':\n",
    "        continue\n",
    "    else:\n",
    "        print(\"Hello, master, please input your password (It is a phone)\")\n",
    "        password = raw_input()\n",
    "        \n",
    "        if password == 'P20':\n",
    "            break\n",
    "print(\"Access granted\")"
   ]
  },
  {
   "cell_type": "markdown",
   "metadata": {
    "slideshow": {
     "slide_type": "slide"
    }
   },
   "source": [
    "### ===== Your First Python Toy Game ====="
   ]
  },
  {
   "cell_type": "code",
   "execution_count": 25,
   "metadata": {
    "slideshow": {
     "slide_type": "slide"
    }
   },
   "outputs": [
    {
     "name": "stdout",
     "output_type": "stream",
     "text": [
      "I am thinking of a number between 1 and 20\n",
      "You have 6 changes\n",
      "Take a guess\n",
      "5\n",
      "too low, try again!\n",
      "Take a guess\n",
      "15\n",
      "too high, try again!\n",
      "Take a guess\n",
      "10\n",
      "too low, try again!\n",
      "Take a guess\n",
      "12\n",
      "too low, try again!\n",
      "Take a guess\n",
      "13\n",
      "too low, try again!\n",
      "Take a guess\n",
      "14\n",
      "Good job! You guessed my number 14 in 6 guesses\n"
     ]
    }
   ],
   "source": [
    "# Guess a number\n",
    "import random\n",
    "\n",
    "secretNumber = random.randint(1, 20)\n",
    "print(\"I am thinking of a number between 1 and 20\")\n",
    "\n",
    "print(\"You have 6 changes\")\n",
    "for guessesTaken in range(1,7):\n",
    "    print(\"Take a guess\")\n",
    "    guess = int(input())\n",
    "    \n",
    "    # check with stored secretNumber\n",
    "    if guess < secretNumber:\n",
    "        print(\"too low, try again!\")\n",
    "    elif guess > secretNumber:\n",
    "        print(\"too high, try again!\")\n",
    "    else:\n",
    "        break\n",
    "\n",
    "if guess == secretNumber:\n",
    "    print(\"Good job! You guessed my number {} in {} guesses\".format(secretNumber, guessesTaken))\n",
    "else:\n",
    "    print(\"Sorry, I was thinking of {}\".format(secretNumber))"
   ]
  },
  {
   "cell_type": "markdown",
   "metadata": {
    "slideshow": {
     "slide_type": "slide"
    }
   },
   "source": [
    "### Functions"
   ]
  },
  {
   "cell_type": "markdown",
   "metadata": {
    "slideshow": {
     "slide_type": "fragment"
    }
   },
   "source": [
    "An enhanced version of the above game is putting the above block codes in a function with arguements we can put in:"
   ]
  },
  {
   "cell_type": "code",
   "execution_count": null,
   "metadata": {
    "slideshow": {
     "slide_type": "slide"
    }
   },
   "outputs": [],
   "source": [
    "import random\n",
    "\n",
    "def myFirstGame(x, y, z):\n",
    "    secretNumber = random.randint(x, y)\n",
    "    print(\"I am thinking of a number between {} and {}\".format(x, y))\n",
    "\n",
    "    print(\"You have {} changes\".format(z))\n",
    "    \n",
    "    for guessesTaken in range(1,z+1):\n",
    "        print(\"Take a guess\")\n",
    "        guess = int(input())\n",
    "    \n",
    "    # check with stored secretNumber\n",
    "        if guess < secretNumber:\n",
    "            print(\"too low, try again!\")\n",
    "        elif guess > secretNumber:\n",
    "            print(\"too high, try again!\")\n",
    "        else:\n",
    "            break\n",
    "\n",
    "    if guess == secretNumber:\n",
    "        print(\"Good job! You guessed my number {} in {} guesses\".format(secretNumber, guessesTaken))\n",
    "    else:\n",
    "        print(\"Sorry, I was thinking of {}\".format(secretNumber))"
   ]
  },
  {
   "cell_type": "code",
   "execution_count": null,
   "metadata": {
    "slideshow": {
     "slide_type": "slide"
    }
   },
   "outputs": [],
   "source": [
    "myFirstGame(1, 100, 2)"
   ]
  },
  {
   "cell_type": "code",
   "execution_count": null,
   "metadata": {},
   "outputs": [],
   "source": []
  }
 ],
 "metadata": {
  "celltoolbar": "Slideshow",
  "kernelspec": {
   "display_name": "Python 3",
   "language": "python",
   "name": "python3"
  },
  "language_info": {
   "codemirror_mode": {
    "name": "ipython",
    "version": 3
   },
   "file_extension": ".py",
   "mimetype": "text/x-python",
   "name": "python",
   "nbconvert_exporter": "python",
   "pygments_lexer": "ipython3",
   "version": "3.8.3"
  }
 },
 "nbformat": 4,
 "nbformat_minor": 2
}
