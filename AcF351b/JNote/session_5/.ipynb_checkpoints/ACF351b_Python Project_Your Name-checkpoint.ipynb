{
 "cells": [
  {
   "cell_type": "code",
   "execution_count": 3,
   "metadata": {},
   "outputs": [],
   "source": [
    "import pandas as pd\n",
    "import numpy as np\n",
    "import wrds\n",
    "from pandas.tseries.offsets import MonthEnd, QuarterEnd, QuarterBegin\n",
    "from dateutil import parser\n",
    "import time\n",
    "#!pip install seaborn\n",
    "import seaborn as sns\n",
    "\n",
    "from numpy.random import randint"
   ]
  },
  {
   "cell_type": "code",
   "execution_count": null,
   "metadata": {},
   "outputs": [],
   "source": []
  },
  {
   "cell_type": "code",
   "execution_count": 3,
   "metadata": {},
   "outputs": [
    {
     "ename": "NameError",
     "evalue": "name 'df' is not defined",
     "output_type": "error",
     "traceback": [
      "\u001b[1;31m---------------------------------------------------------------------------\u001b[0m",
      "\u001b[1;31mNameError\u001b[0m                                 Traceback (most recent call last)",
      "\u001b[1;32m<ipython-input-3-6a8cd0abf8c3>\u001b[0m in \u001b[0;36m<module>\u001b[1;34m\u001b[0m\n\u001b[0;32m      6\u001b[0m \u001b[1;32mfrom\u001b[0m \u001b[0mSQL\u001b[0m \u001b[0mDATABASE\u001b[0m\u001b[1;33m\u001b[0m\u001b[1;33m\u001b[0m\u001b[0m\n\u001b[0;32m      7\u001b[0m \u001b[0mwhere\u001b[0m \u001b[0mcusip_id\u001b[0m \u001b[1;32min\u001b[0m \u001b[1;33m{\u001b[0m\u001b[1;33m}\u001b[0m\u001b[1;33m\u001b[0m\u001b[1;33m\u001b[0m\u001b[0m\n\u001b[1;32m----> 8\u001b[1;33m \"\"\".format(tuple(df.cusip_id))\n\u001b[0m",
      "\u001b[1;31mNameError\u001b[0m: name 'df' is not defined"
     ]
    }
   ],
   "source": [
    "# Finish the NoteBook according to the project instructions\n",
    "# to query data based on a pandas dataframe, you might find the following code useful:\n",
    "\n",
    "stmt=\"\"\"\n",
    "select VARIABLES\n",
    "from SQL DATABASE\n",
    "where cusip_id in {}\n",
    "\"\"\".format(tuple(df.cusip_id))"
   ]
  },
  {
   "cell_type": "code",
   "execution_count": 3,
   "metadata": {},
   "outputs": [
    {
     "name": "stdout",
     "output_type": "stream",
     "text": [
      "Enter your WRDS username [Henry]:hchan1\n",
      "Enter your password:········\n",
      "WRDS recommends setting up a .pgpass file.\n",
      "You can find more info here:\n",
      "https://www.postgresql.org/docs/9.5/static/libpq-pgpass.html.\n",
      "Loading library list...\n",
      "Done\n"
     ]
    }
   ],
   "source": [
    "conn = wrds.Connection()"
   ]
  },
  {
   "cell_type": "markdown",
   "metadata": {},
   "source": [
    "1A daily yields"
   ]
  },
  {
   "cell_type": "code",
   "execution_count": 17,
   "metadata": {
    "scrolled": true
   },
   "outputs": [
    {
     "ename": "SyntaxError",
     "evalue": "invalid syntax (<ipython-input-17-00b43f8f759f>, line 2)",
     "output_type": "error",
     "traceback": [
      "\u001b[1;36m  File \u001b[1;32m\"<ipython-input-17-00b43f8f759f>\"\u001b[1;36m, line \u001b[1;32m2\u001b[0m\n\u001b[1;33m    select cusip_id, TRD_EXCTN_DT, TRD_EXCTN_TM, YLD_PT\u001b[0m\n\u001b[1;37m           ^\u001b[0m\n\u001b[1;31mSyntaxError\u001b[0m\u001b[1;31m:\u001b[0m invalid syntax\n"
     ]
    }
   ],
   "source": [
    "#stmt=\"\"\"\n",
    "select cusip_id, TRD_EXCTN_DT, TRD_EXCTN_TM, YLD_PT\n",
    "from trace.trace_enhanced\n",
    "where cusip_id = '00077TAB0'\n",
    "and (TRD_EXCTN_DT between '2015-01-01' and '2017-07-01')\n",
    "#\"\"\"\n",
    "data = conn.raw_sql(stmt)\n",
    "data"
   ]
  },
  {
   "cell_type": "code",
   "execution_count": null,
   "metadata": {},
   "outputs": [],
   "source": []
  },
  {
   "cell_type": "code",
   "execution_count": null,
   "metadata": {},
   "outputs": [],
   "source": []
  },
  {
   "cell_type": "code",
   "execution_count": null,
   "metadata": {},
   "outputs": [],
   "source": [
    "stmt=\"\"\"\n",
    "select cusip_id "
   ]
  },
  {
   "cell_type": "code",
   "execution_count": null,
   "metadata": {},
   "outputs": [],
   "source": []
  },
  {
   "cell_type": "markdown",
   "metadata": {},
   "source": []
  },
  {
   "cell_type": "code",
   "execution_count": null,
   "metadata": {},
   "outputs": [],
   "source": [
    "stmt=\"\"\"\n",
    "select "
   ]
  },
  {
   "cell_type": "markdown",
   "metadata": {},
   "source": [
    "After downloading data from WRDS, using BTDS file on TRACE"
   ]
  },
  {
   "cell_type": "code",
   "execution_count": 10,
   "metadata": {},
   "outputs": [
    {
     "data": {
      "text/html": [
       "<div>\n",
       "<style scoped>\n",
       "    .dataframe tbody tr th:only-of-type {\n",
       "        vertical-align: middle;\n",
       "    }\n",
       "\n",
       "    .dataframe tbody tr th {\n",
       "        vertical-align: top;\n",
       "    }\n",
       "\n",
       "    .dataframe thead th {\n",
       "        text-align: right;\n",
       "    }\n",
       "</style>\n",
       "<table border=\"1\" class=\"dataframe\">\n",
       "  <thead>\n",
       "    <tr style=\"text-align: right;\">\n",
       "      <th></th>\n",
       "      <th>CUSIP_ID</th>\n",
       "      <th>yld_pt</th>\n",
       "      <th>bond_sym_id</th>\n",
       "      <th>company_symbol</th>\n",
       "      <th>trd_exctn_dt</th>\n",
       "      <th>trd_exctn_tm</th>\n",
       "    </tr>\n",
       "  </thead>\n",
       "  <tbody>\n",
       "    <tr>\n",
       "      <th>0</th>\n",
       "      <td>037833BC3</td>\n",
       "      <td>NaN</td>\n",
       "      <td>AAPL4242662</td>\n",
       "      <td>AAPL</td>\n",
       "      <td>2015-05-07</td>\n",
       "      <td>07:57:03</td>\n",
       "    </tr>\n",
       "    <tr>\n",
       "      <th>1</th>\n",
       "      <td>037833BC3</td>\n",
       "      <td>NaN</td>\n",
       "      <td>AAPL4242662</td>\n",
       "      <td>AAPL</td>\n",
       "      <td>2015-05-07</td>\n",
       "      <td>12:29:00</td>\n",
       "    </tr>\n",
       "    <tr>\n",
       "      <th>2</th>\n",
       "      <td>037833BC3</td>\n",
       "      <td>NaN</td>\n",
       "      <td>AAPL4242662</td>\n",
       "      <td>AAPL</td>\n",
       "      <td>2015-05-07</td>\n",
       "      <td>12:29:00</td>\n",
       "    </tr>\n",
       "    <tr>\n",
       "      <th>3</th>\n",
       "      <td>037833BC3</td>\n",
       "      <td>NaN</td>\n",
       "      <td>AAPL4242662</td>\n",
       "      <td>AAPL</td>\n",
       "      <td>2015-05-07</td>\n",
       "      <td>12:34:48</td>\n",
       "    </tr>\n",
       "    <tr>\n",
       "      <th>4</th>\n",
       "      <td>037833BC3</td>\n",
       "      <td>NaN</td>\n",
       "      <td>AAPL4242662</td>\n",
       "      <td>AAPL</td>\n",
       "      <td>2015-05-07</td>\n",
       "      <td>12:37:44</td>\n",
       "    </tr>\n",
       "    <tr>\n",
       "      <th>...</th>\n",
       "      <td>...</td>\n",
       "      <td>...</td>\n",
       "      <td>...</td>\n",
       "      <td>...</td>\n",
       "      <td>...</td>\n",
       "      <td>...</td>\n",
       "    </tr>\n",
       "    <tr>\n",
       "      <th>899306</th>\n",
       "      <td>30231GAS1</td>\n",
       "      <td>NaN</td>\n",
       "      <td>XOM4340687</td>\n",
       "      <td>XOM</td>\n",
       "      <td>2017-12-21</td>\n",
       "      <td>09:26:12</td>\n",
       "    </tr>\n",
       "    <tr>\n",
       "      <th>899307</th>\n",
       "      <td>30231GAS1</td>\n",
       "      <td>NaN</td>\n",
       "      <td>XOM4340687</td>\n",
       "      <td>XOM</td>\n",
       "      <td>2017-12-21</td>\n",
       "      <td>09:26:27</td>\n",
       "    </tr>\n",
       "    <tr>\n",
       "      <th>899308</th>\n",
       "      <td>30231GAS1</td>\n",
       "      <td>NaN</td>\n",
       "      <td>XOM4340687</td>\n",
       "      <td>XOM</td>\n",
       "      <td>2017-12-22</td>\n",
       "      <td>11:04:18</td>\n",
       "    </tr>\n",
       "    <tr>\n",
       "      <th>899309</th>\n",
       "      <td>30231GAS1</td>\n",
       "      <td>NaN</td>\n",
       "      <td>XOM4340687</td>\n",
       "      <td>XOM</td>\n",
       "      <td>2017-12-27</td>\n",
       "      <td>11:04:07</td>\n",
       "    </tr>\n",
       "    <tr>\n",
       "      <th>899310</th>\n",
       "      <td>30231GAS1</td>\n",
       "      <td>NaN</td>\n",
       "      <td>XOM4340687</td>\n",
       "      <td>XOM</td>\n",
       "      <td>2017-12-27</td>\n",
       "      <td>11:04:07</td>\n",
       "    </tr>\n",
       "  </tbody>\n",
       "</table>\n",
       "<p>899311 rows × 6 columns</p>\n",
       "</div>"
      ],
      "text/plain": [
       "         CUSIP_ID  yld_pt  bond_sym_id company_symbol trd_exctn_dt  \\\n",
       "0       037833BC3     NaN  AAPL4242662           AAPL   2015-05-07   \n",
       "1       037833BC3     NaN  AAPL4242662           AAPL   2015-05-07   \n",
       "2       037833BC3     NaN  AAPL4242662           AAPL   2015-05-07   \n",
       "3       037833BC3     NaN  AAPL4242662           AAPL   2015-05-07   \n",
       "4       037833BC3     NaN  AAPL4242662           AAPL   2015-05-07   \n",
       "...           ...     ...          ...            ...          ...   \n",
       "899306  30231GAS1     NaN   XOM4340687            XOM   2017-12-21   \n",
       "899307  30231GAS1     NaN   XOM4340687            XOM   2017-12-21   \n",
       "899308  30231GAS1     NaN   XOM4340687            XOM   2017-12-22   \n",
       "899309  30231GAS1     NaN   XOM4340687            XOM   2017-12-27   \n",
       "899310  30231GAS1     NaN   XOM4340687            XOM   2017-12-27   \n",
       "\n",
       "       trd_exctn_tm  \n",
       "0          07:57:03  \n",
       "1          12:29:00  \n",
       "2          12:29:00  \n",
       "3          12:34:48  \n",
       "4          12:37:44  \n",
       "...             ...  \n",
       "899306     09:26:12  \n",
       "899307     09:26:27  \n",
       "899308     11:04:18  \n",
       "899309     11:04:07  \n",
       "899310     11:04:07  \n",
       "\n",
       "[899311 rows x 6 columns]"
      ]
     },
     "execution_count": 10,
     "metadata": {},
     "output_type": "execute_result"
    }
   ],
   "source": [
    "df1=pd.read_csv(r'C:\\Users\\Henry\\OneDrive\\Desktop\\ACF\\AcF351b\\bond_yields_pt1.csv')\n",
    "df1"
   ]
  },
  {
   "cell_type": "code",
   "execution_count": 11,
   "metadata": {},
   "outputs": [
    {
     "data": {
      "text/html": [
       "<div>\n",
       "<style scoped>\n",
       "    .dataframe tbody tr th:only-of-type {\n",
       "        vertical-align: middle;\n",
       "    }\n",
       "\n",
       "    .dataframe tbody tr th {\n",
       "        vertical-align: top;\n",
       "    }\n",
       "\n",
       "    .dataframe thead th {\n",
       "        text-align: right;\n",
       "    }\n",
       "</style>\n",
       "<table border=\"1\" class=\"dataframe\">\n",
       "  <thead>\n",
       "    <tr style=\"text-align: right;\">\n",
       "      <th></th>\n",
       "      <th>CUSIP_ID</th>\n",
       "      <th>yld_pt</th>\n",
       "      <th>bond_sym_id</th>\n",
       "      <th>company_symbol</th>\n",
       "      <th>trd_exctn_dt</th>\n",
       "      <th>trd_exctn_tm</th>\n",
       "    </tr>\n",
       "  </thead>\n",
       "  <tbody>\n",
       "    <tr>\n",
       "      <th>0</th>\n",
       "      <td>94973VBG1</td>\n",
       "      <td>1.117057</td>\n",
       "      <td>ANTM4071285</td>\n",
       "      <td>ANTM</td>\n",
       "      <td>2015-06-26</td>\n",
       "      <td>13:06:35</td>\n",
       "    </tr>\n",
       "    <tr>\n",
       "      <th>1</th>\n",
       "      <td>94973VBG1</td>\n",
       "      <td>1.109770</td>\n",
       "      <td>ANTM4071285</td>\n",
       "      <td>ANTM</td>\n",
       "      <td>2015-06-26</td>\n",
       "      <td>15:02:43</td>\n",
       "    </tr>\n",
       "    <tr>\n",
       "      <th>2</th>\n",
       "      <td>94973VBG1</td>\n",
       "      <td>1.108772</td>\n",
       "      <td>ANTM4071285</td>\n",
       "      <td>ANTM</td>\n",
       "      <td>2015-06-26</td>\n",
       "      <td>15:21:22</td>\n",
       "    </tr>\n",
       "    <tr>\n",
       "      <th>3</th>\n",
       "      <td>94973VBG1</td>\n",
       "      <td>1.017911</td>\n",
       "      <td>ANTM4071285</td>\n",
       "      <td>ANTM</td>\n",
       "      <td>2015-06-29</td>\n",
       "      <td>11:59:25</td>\n",
       "    </tr>\n",
       "    <tr>\n",
       "      <th>4</th>\n",
       "      <td>94973VBG1</td>\n",
       "      <td>1.031734</td>\n",
       "      <td>ANTM4071285</td>\n",
       "      <td>ANTM</td>\n",
       "      <td>2015-06-29</td>\n",
       "      <td>11:59:49</td>\n",
       "    </tr>\n",
       "    <tr>\n",
       "      <th>...</th>\n",
       "      <td>...</td>\n",
       "      <td>...</td>\n",
       "      <td>...</td>\n",
       "      <td>...</td>\n",
       "      <td>...</td>\n",
       "      <td>...</td>\n",
       "    </tr>\n",
       "    <tr>\n",
       "      <th>426969</th>\n",
       "      <td>984121CK7</td>\n",
       "      <td>NaN</td>\n",
       "      <td>XRX4217783</td>\n",
       "      <td>XRX</td>\n",
       "      <td>2017-12-28</td>\n",
       "      <td>12:08:56</td>\n",
       "    </tr>\n",
       "    <tr>\n",
       "      <th>426970</th>\n",
       "      <td>984121CK7</td>\n",
       "      <td>NaN</td>\n",
       "      <td>XRX4217783</td>\n",
       "      <td>XRX</td>\n",
       "      <td>2017-12-28</td>\n",
       "      <td>12:08:56</td>\n",
       "    </tr>\n",
       "    <tr>\n",
       "      <th>426971</th>\n",
       "      <td>984121CK7</td>\n",
       "      <td>NaN</td>\n",
       "      <td>XRX4217783</td>\n",
       "      <td>XRX</td>\n",
       "      <td>2017-12-28</td>\n",
       "      <td>12:08:57</td>\n",
       "    </tr>\n",
       "    <tr>\n",
       "      <th>426972</th>\n",
       "      <td>984121CK7</td>\n",
       "      <td>NaN</td>\n",
       "      <td>XRX4217783</td>\n",
       "      <td>XRX</td>\n",
       "      <td>2017-12-29</td>\n",
       "      <td>08:00:11</td>\n",
       "    </tr>\n",
       "    <tr>\n",
       "      <th>426973</th>\n",
       "      <td>984121CK7</td>\n",
       "      <td>NaN</td>\n",
       "      <td>XRX4217783</td>\n",
       "      <td>XRX</td>\n",
       "      <td>2017-12-29</td>\n",
       "      <td>08:00:11</td>\n",
       "    </tr>\n",
       "  </tbody>\n",
       "</table>\n",
       "<p>426974 rows × 6 columns</p>\n",
       "</div>"
      ],
      "text/plain": [
       "         CUSIP_ID    yld_pt  bond_sym_id company_symbol trd_exctn_dt  \\\n",
       "0       94973VBG1  1.117057  ANTM4071285           ANTM   2015-06-26   \n",
       "1       94973VBG1  1.109770  ANTM4071285           ANTM   2015-06-26   \n",
       "2       94973VBG1  1.108772  ANTM4071285           ANTM   2015-06-26   \n",
       "3       94973VBG1  1.017911  ANTM4071285           ANTM   2015-06-29   \n",
       "4       94973VBG1  1.031734  ANTM4071285           ANTM   2015-06-29   \n",
       "...           ...       ...          ...            ...          ...   \n",
       "426969  984121CK7       NaN   XRX4217783            XRX   2017-12-28   \n",
       "426970  984121CK7       NaN   XRX4217783            XRX   2017-12-28   \n",
       "426971  984121CK7       NaN   XRX4217783            XRX   2017-12-28   \n",
       "426972  984121CK7       NaN   XRX4217783            XRX   2017-12-29   \n",
       "426973  984121CK7       NaN   XRX4217783            XRX   2017-12-29   \n",
       "\n",
       "       trd_exctn_tm  \n",
       "0          13:06:35  \n",
       "1          15:02:43  \n",
       "2          15:21:22  \n",
       "3          11:59:25  \n",
       "4          11:59:49  \n",
       "...             ...  \n",
       "426969     12:08:56  \n",
       "426970     12:08:56  \n",
       "426971     12:08:57  \n",
       "426972     08:00:11  \n",
       "426973     08:00:11  \n",
       "\n",
       "[426974 rows x 6 columns]"
      ]
     },
     "execution_count": 11,
     "metadata": {},
     "output_type": "execute_result"
    }
   ],
   "source": [
    "df1_1=pd.read_csv(r'C:\\Users\\Henry\\OneDrive\\Desktop\\ACF\\AcF351b\\bond_yields_pt2.csv')\n",
    "df1_1"
   ]
  },
  {
   "cell_type": "code",
   "execution_count": 12,
   "metadata": {},
   "outputs": [
    {
     "data": {
      "text/html": [
       "<div>\n",
       "<style scoped>\n",
       "    .dataframe tbody tr th:only-of-type {\n",
       "        vertical-align: middle;\n",
       "    }\n",
       "\n",
       "    .dataframe tbody tr th {\n",
       "        vertical-align: top;\n",
       "    }\n",
       "\n",
       "    .dataframe thead th {\n",
       "        text-align: right;\n",
       "    }\n",
       "</style>\n",
       "<table border=\"1\" class=\"dataframe\">\n",
       "  <thead>\n",
       "    <tr style=\"text-align: right;\">\n",
       "      <th></th>\n",
       "      <th>CUSIP_ID</th>\n",
       "      <th>yld_pt</th>\n",
       "      <th>bond_sym_id</th>\n",
       "      <th>company_symbol</th>\n",
       "      <th>trd_exctn_dt</th>\n",
       "      <th>trd_exctn_tm</th>\n",
       "    </tr>\n",
       "  </thead>\n",
       "  <tbody>\n",
       "    <tr>\n",
       "      <th>0</th>\n",
       "      <td>037833BC3</td>\n",
       "      <td>NaN</td>\n",
       "      <td>AAPL4242662</td>\n",
       "      <td>AAPL</td>\n",
       "      <td>2015-05-07</td>\n",
       "      <td>07:57:03</td>\n",
       "    </tr>\n",
       "    <tr>\n",
       "      <th>1</th>\n",
       "      <td>037833BC3</td>\n",
       "      <td>NaN</td>\n",
       "      <td>AAPL4242662</td>\n",
       "      <td>AAPL</td>\n",
       "      <td>2015-05-07</td>\n",
       "      <td>12:29:00</td>\n",
       "    </tr>\n",
       "    <tr>\n",
       "      <th>2</th>\n",
       "      <td>037833BC3</td>\n",
       "      <td>NaN</td>\n",
       "      <td>AAPL4242662</td>\n",
       "      <td>AAPL</td>\n",
       "      <td>2015-05-07</td>\n",
       "      <td>12:29:00</td>\n",
       "    </tr>\n",
       "    <tr>\n",
       "      <th>3</th>\n",
       "      <td>037833BC3</td>\n",
       "      <td>NaN</td>\n",
       "      <td>AAPL4242662</td>\n",
       "      <td>AAPL</td>\n",
       "      <td>2015-05-07</td>\n",
       "      <td>12:34:48</td>\n",
       "    </tr>\n",
       "    <tr>\n",
       "      <th>4</th>\n",
       "      <td>037833BC3</td>\n",
       "      <td>NaN</td>\n",
       "      <td>AAPL4242662</td>\n",
       "      <td>AAPL</td>\n",
       "      <td>2015-05-07</td>\n",
       "      <td>12:37:44</td>\n",
       "    </tr>\n",
       "    <tr>\n",
       "      <th>...</th>\n",
       "      <td>...</td>\n",
       "      <td>...</td>\n",
       "      <td>...</td>\n",
       "      <td>...</td>\n",
       "      <td>...</td>\n",
       "      <td>...</td>\n",
       "    </tr>\n",
       "    <tr>\n",
       "      <th>426969</th>\n",
       "      <td>984121CK7</td>\n",
       "      <td>NaN</td>\n",
       "      <td>XRX4217783</td>\n",
       "      <td>XRX</td>\n",
       "      <td>2017-12-28</td>\n",
       "      <td>12:08:56</td>\n",
       "    </tr>\n",
       "    <tr>\n",
       "      <th>426970</th>\n",
       "      <td>984121CK7</td>\n",
       "      <td>NaN</td>\n",
       "      <td>XRX4217783</td>\n",
       "      <td>XRX</td>\n",
       "      <td>2017-12-28</td>\n",
       "      <td>12:08:56</td>\n",
       "    </tr>\n",
       "    <tr>\n",
       "      <th>426971</th>\n",
       "      <td>984121CK7</td>\n",
       "      <td>NaN</td>\n",
       "      <td>XRX4217783</td>\n",
       "      <td>XRX</td>\n",
       "      <td>2017-12-28</td>\n",
       "      <td>12:08:57</td>\n",
       "    </tr>\n",
       "    <tr>\n",
       "      <th>426972</th>\n",
       "      <td>984121CK7</td>\n",
       "      <td>NaN</td>\n",
       "      <td>XRX4217783</td>\n",
       "      <td>XRX</td>\n",
       "      <td>2017-12-29</td>\n",
       "      <td>08:00:11</td>\n",
       "    </tr>\n",
       "    <tr>\n",
       "      <th>426973</th>\n",
       "      <td>984121CK7</td>\n",
       "      <td>NaN</td>\n",
       "      <td>XRX4217783</td>\n",
       "      <td>XRX</td>\n",
       "      <td>2017-12-29</td>\n",
       "      <td>08:00:11</td>\n",
       "    </tr>\n",
       "  </tbody>\n",
       "</table>\n",
       "<p>1326285 rows × 6 columns</p>\n",
       "</div>"
      ],
      "text/plain": [
       "         CUSIP_ID  yld_pt  bond_sym_id company_symbol trd_exctn_dt  \\\n",
       "0       037833BC3     NaN  AAPL4242662           AAPL   2015-05-07   \n",
       "1       037833BC3     NaN  AAPL4242662           AAPL   2015-05-07   \n",
       "2       037833BC3     NaN  AAPL4242662           AAPL   2015-05-07   \n",
       "3       037833BC3     NaN  AAPL4242662           AAPL   2015-05-07   \n",
       "4       037833BC3     NaN  AAPL4242662           AAPL   2015-05-07   \n",
       "...           ...     ...          ...            ...          ...   \n",
       "426969  984121CK7     NaN   XRX4217783            XRX   2017-12-28   \n",
       "426970  984121CK7     NaN   XRX4217783            XRX   2017-12-28   \n",
       "426971  984121CK7     NaN   XRX4217783            XRX   2017-12-28   \n",
       "426972  984121CK7     NaN   XRX4217783            XRX   2017-12-29   \n",
       "426973  984121CK7     NaN   XRX4217783            XRX   2017-12-29   \n",
       "\n",
       "       trd_exctn_tm  \n",
       "0          07:57:03  \n",
       "1          12:29:00  \n",
       "2          12:29:00  \n",
       "3          12:34:48  \n",
       "4          12:37:44  \n",
       "...             ...  \n",
       "426969     12:08:56  \n",
       "426970     12:08:56  \n",
       "426971     12:08:57  \n",
       "426972     08:00:11  \n",
       "426973     08:00:11  \n",
       "\n",
       "[1326285 rows x 6 columns]"
      ]
     },
     "execution_count": 12,
     "metadata": {},
     "output_type": "execute_result"
    }
   ],
   "source": [
    "#Merged data as excel couldn't load it all\n",
    "df2= df1.append(df1_1)\n",
    "df2"
   ]
  },
  {
   "cell_type": "code",
   "execution_count": 13,
   "metadata": {},
   "outputs": [],
   "source": [
    "df2['trd_exctn_dt']= pd.to_datetime(df2['trd_exctn_dt']) #change date to datetime dtype"
   ]
  },
  {
   "cell_type": "code",
   "execution_count": 14,
   "metadata": {},
   "outputs": [
    {
     "data": {
      "text/html": [
       "<div>\n",
       "<style scoped>\n",
       "    .dataframe tbody tr th:only-of-type {\n",
       "        vertical-align: middle;\n",
       "    }\n",
       "\n",
       "    .dataframe tbody tr th {\n",
       "        vertical-align: top;\n",
       "    }\n",
       "\n",
       "    .dataframe thead th {\n",
       "        text-align: right;\n",
       "    }\n",
       "</style>\n",
       "<table border=\"1\" class=\"dataframe\">\n",
       "  <thead>\n",
       "    <tr style=\"text-align: right;\">\n",
       "      <th></th>\n",
       "      <th>CUSIP_ID</th>\n",
       "      <th>yld_pt</th>\n",
       "      <th>trd_exctn_dt</th>\n",
       "      <th>trd_exctn_tm</th>\n",
       "    </tr>\n",
       "  </thead>\n",
       "  <tbody>\n",
       "    <tr>\n",
       "      <th>891065</th>\n",
       "      <td>00077TAB0</td>\n",
       "      <td>6.525827</td>\n",
       "      <td>2015-01-05</td>\n",
       "      <td>14:27:45</td>\n",
       "    </tr>\n",
       "    <tr>\n",
       "      <th>891064</th>\n",
       "      <td>00077TAB0</td>\n",
       "      <td>6.608047</td>\n",
       "      <td>2015-01-05</td>\n",
       "      <td>14:27:45</td>\n",
       "    </tr>\n",
       "    <tr>\n",
       "      <th>891067</th>\n",
       "      <td>00077TAB0</td>\n",
       "      <td>6.786439</td>\n",
       "      <td>2015-01-06</td>\n",
       "      <td>10:23:34</td>\n",
       "    </tr>\n",
       "    <tr>\n",
       "      <th>891066</th>\n",
       "      <td>00077TAB0</td>\n",
       "      <td>6.842175</td>\n",
       "      <td>2015-01-06</td>\n",
       "      <td>10:23:34</td>\n",
       "    </tr>\n",
       "    <tr>\n",
       "      <th>891069</th>\n",
       "      <td>00077TAB0</td>\n",
       "      <td>6.897267</td>\n",
       "      <td>2015-02-17</td>\n",
       "      <td>11:24:15</td>\n",
       "    </tr>\n",
       "    <tr>\n",
       "      <th>...</th>\n",
       "      <td>...</td>\n",
       "      <td>...</td>\n",
       "      <td>...</td>\n",
       "      <td>...</td>\n",
       "    </tr>\n",
       "    <tr>\n",
       "      <th>3417</th>\n",
       "      <td>98934KAB6</td>\n",
       "      <td>2.971758</td>\n",
       "      <td>2017-11-30</td>\n",
       "      <td>17:23:00</td>\n",
       "    </tr>\n",
       "    <tr>\n",
       "      <th>3419</th>\n",
       "      <td>98934KAB6</td>\n",
       "      <td>3.009462</td>\n",
       "      <td>2017-12-04</td>\n",
       "      <td>09:27:55</td>\n",
       "    </tr>\n",
       "    <tr>\n",
       "      <th>3418</th>\n",
       "      <td>98934KAB6</td>\n",
       "      <td>3.210928</td>\n",
       "      <td>2017-12-04</td>\n",
       "      <td>09:27:55</td>\n",
       "    </tr>\n",
       "    <tr>\n",
       "      <th>3420</th>\n",
       "      <td>98934KAB6</td>\n",
       "      <td>2.977512</td>\n",
       "      <td>2017-12-19</td>\n",
       "      <td>12:22:54</td>\n",
       "    </tr>\n",
       "    <tr>\n",
       "      <th>3421</th>\n",
       "      <td>98934KAB6</td>\n",
       "      <td>2.960962</td>\n",
       "      <td>2017-12-19</td>\n",
       "      <td>12:22:55</td>\n",
       "    </tr>\n",
       "  </tbody>\n",
       "</table>\n",
       "<p>1150866 rows × 4 columns</p>\n",
       "</div>"
      ],
      "text/plain": [
       "         CUSIP_ID    yld_pt trd_exctn_dt trd_exctn_tm\n",
       "891065  00077TAB0  6.525827   2015-01-05     14:27:45\n",
       "891064  00077TAB0  6.608047   2015-01-05     14:27:45\n",
       "891067  00077TAB0  6.786439   2015-01-06     10:23:34\n",
       "891066  00077TAB0  6.842175   2015-01-06     10:23:34\n",
       "891069  00077TAB0  6.897267   2015-02-17     11:24:15\n",
       "...           ...       ...          ...          ...\n",
       "3417    98934KAB6  2.971758   2017-11-30     17:23:00\n",
       "3419    98934KAB6  3.009462   2017-12-04     09:27:55\n",
       "3418    98934KAB6  3.210928   2017-12-04     09:27:55\n",
       "3420    98934KAB6  2.977512   2017-12-19     12:22:54\n",
       "3421    98934KAB6  2.960962   2017-12-19     12:22:55\n",
       "\n",
       "[1150866 rows x 4 columns]"
      ]
     },
     "execution_count": 14,
     "metadata": {},
     "output_type": "execute_result"
    }
   ],
   "source": [
    "df2 = df2[df2['yld_pt'].notna()] #drop rows with no yields\n",
    "df2 = df2.drop(columns=['bond_sym_id', 'company_symbol']) #drop bond symbol and company symbol columns.\n",
    "df2 = df2.sort_values(by=['CUSIP_ID', 'trd_exctn_dt', 'trd_exctn_tm', 'yld_pt'], ascending=True) #sorted by cusip, date,time and yield\n",
    "df2_ordered = df2\n",
    "df2_ordered"
   ]
  },
  {
   "cell_type": "code",
   "execution_count": 15,
   "metadata": {},
   "outputs": [
    {
     "data": {
      "text/plain": [
       "Index(['CUSIP_ID', 'yld_pt', 'trd_exctn_dt', 'trd_exctn_tm'], dtype='object')"
      ]
     },
     "execution_count": 15,
     "metadata": {},
     "output_type": "execute_result"
    }
   ],
   "source": [
    "#Dropped duplicate dates and kept last occurence\n",
    "df3 = df2_ordered.drop_duplicates(subset=['CUSIP_ID', 'trd_exctn_dt'], keep='last')\n",
    "df3.keys()"
   ]
  },
  {
   "cell_type": "code",
   "execution_count": 16,
   "metadata": {},
   "outputs": [],
   "source": [
    "Grouped = df3.groupby(by=['CUSIP_ID'], as_index=False) #grouped data by cusip id\n"
   ]
  },
  {
   "cell_type": "code",
   "execution_count": 47,
   "metadata": {},
   "outputs": [
    {
     "data": {
      "text/plain": [
       "dict_keys(['00077TAB0', '002799AJ3', '02005NAR1', '02005NBE9', '02005NBF6', '02209SAD5', '02209SAE3', '02209SAH6', '02209SAJ2', '02209SAM5', '02209SAN3', '02209SAP8', '02209SAQ6', '02209SAR4', '02209SAS2', '025816AY5', '025816AZ2', '025816BG3', '030955AB4', '037389AK9', '05565QBT4', '05565QCA4', '05565QDN5', '05565QDP0', '05565QDR6', '06048WMW7', '06050WEX9', '06051GFS3', '06738EAC9', '06738EAE5', '06738EAG0', '06738EAJ4', '06738EAP0', '06738JBR4', '06738JE42', '06738JMT8', '06738JVA9', '06738JZB3', '06739FHT1', '06739FHV6', '06739GAR0', '06739GBB4', '06739GBP3', '06740L8C2', '06741JS26', '06741RGF2', '073902CD8', '073902KF4', '073902PN2', '073902PR3', '073902RU4', '079867AQ0', '084670BG2', '084670BL1', '14040HAX3', '14040HAY1', '14912HPK0', '165167CQ8', '170032AT3', '172967AL5', '172967DE8', '172967DY4', '172967EC1', '172967EH0', '172967EM9', '172967EP2', '172967ES6', '172967EW7', '172967FD8', '172967FF3', '172967FS5', '172967FT3', '172967FW6', '172967FX4', '172967FY2', '172967GB1', '172967GG0', '172967GK1', '172967GL9', '172967GP0', '172967GS4', '172967GT2', '172967GW5', '172967HA2', '172967HB0', '172967HC8', '172967HD6', '172967HE4', '172967HG9', '172967HK0', '172967HM6', '172967HS3', '172967HT1', '172967HU8', '172967HV6', '172967HY0', '172967JE2', '172967JH5', '172967JJ1', '172967JN2', '172967JT9', '172967JU6', '172967JW2', '172967KA8', '172967KB6', '174610AC9', '174610AL9', '184502AD4', '190441AW5', '197677AG2', '20451PKM7', '212485AE6', '22541HCC4', '22541LAR4', '225434AG4', '24422ERQ4', '25152R2U6', '25152R2X0', '26444GAA1', '26444GAB9', '26444GAC7', '26444GAD5', '26444GAE3', '26444HAD3', '31677QBA6', '31677QBD0', '33582VAC2', '337915AA0', '345370BS8', '345397VR1', '345397XH1', '345397XL2', '345397XT5', '345397XW8', '34540TQE5', '36186CBY8', '369300AL2', '369604BC6', '370425RZ5', '37246WAC9', '372546AA9', '38141EB32', '38141GEE0', '38141GFM1', '38141GGM0', '38141GGQ1', '38141GGS7', '38141GGT5', '38141GRC0', '38141GRD8', '38141GVM3', '38141GVN1', '38141GVR2', '38143C5M9', '38143USC6', '38144LAB6', '38145XAA1', '38147MAA3', '38148FAB5', '38148LAF3', '404280AE9', '404280AF6', '404280AH2', '404280AL3', '404280AM1', '404280AN9', '404280AP4', '404280AQ2', '404280AU3', '404280BH1', '40428HPB2', '40428HPQ9', '40429CFN7', '40429CGD8', '4042K1JY0', '4165X0LS7', '4165X0LW8', '446150AJ3', '44643TAA5', '455665AK5', '456866AL6', '46625HHW3', '46625HJL5', '46625HRS1', '46625HRT9', '471109AB4', '471109AM0', '48126BAA1', '50075NAT1', '50075NAU8', '50075NAV6', '50075NAW4', '50075NAZ7', '50075NBA1', '50075NBB9', '50076QAE6', '50076QAN6', '50076QAR7', '50076QAU0', '50076QAX4', '50076QAY2', '50076QAZ9', '527288BD5', '530610AC8', '539439AM1', '539439AN9', '53944VAA7', '53944VAG4', '53944XCQ6', '539473AG3', '539473AH1', '539473AQ1', '55279HAD2', '577778AS2', '59156RBK3', '59156RBL1', '6174467N3', '61746BED4', '61747YDW2', '63743FVY9', '63743FXH4', '652478AL2', '652478AQ1', '652478AU2', '652478AY4', '652478AZ1', '652478BX5', '652478BY3', '652478BZ0', '652482AJ9', '652482AM2', '652482AT7', '652482AU4', '652482AX8', '652482BC3', '652482BJ8', '65339KAB6', '65339KAH3', '65339KAJ9', '665772BN8', '665772BU2', '665772CP2', '670008AD3', '681904AN8', '681904AQ1', '690768BF2', '693476BF9', '69353RCG1', '69353RDY1', '706451BD2', '718172AA7', '718172AC3', '718172AH2', '718172AL3', '718172AM1', '718172AN9', '718172AP4', '718172AS8', '718172AT6', '718172AU3', '718172AV1', '718172AW9', '718172BD0', '718172BE8', '718172BF5', '718172BL2', '718172BM0', '718172BN8', '74254PPG1', '74254PVW9', '742741AA9', '775371AG2', '780097AW1', '780097AY7', '780097AZ4', '78009PCC3', '78010XAE1', '78010XAG6', '78010XAK7', '78011RAC7', '78012DAF0', '783764AS2', '78409VAH7', '78422XTC7', '80280JDB4', '80281LAC9', '80283LAD5', '80283LAF0', '80283LAJ2', '80283LAK9', '80283LAM5', '80283LAP8', '832248AQ1', '857477AM5', '857477AV5', '857477AW3', '867914BK8', '869099AH4', '87161CAG0', '90131HAL9', '90131HAT2', '90131HAW5', '90131HAX3', '90131HAY1', '90131HAZ8', '90131HBA2', '90131HBB0', '90131HBC8', '90131HBD6', '90131HBE4', '90131HBF1', '90131HBJ3', '90131HBM6', '90131HBR5', '90131HBS3', '90131HBT1', '90331HMC4', '90331HMU4', '913017BZ1', '913026AT7', '913026AU4', '919794AB3', '919794AC1', '92343VBH6', '931142CJ0', '931142CK7', '931142CM3', '931142CP6', '931142CT8', '931142CU5', '931142CV3', '931142DB6', '931142DC4', '931142DD2', '94973VBG1', '949746RW3', '94986RCZ2', '94986RVY4', '94986RXR7', '957638AB5', '961548AQ7', '961548AS3', '984121CK7', '98934KAB6'])"
      ]
     },
     "execution_count": 47,
     "metadata": {},
     "output_type": "execute_result"
    }
   ],
   "source": [
    "Grouped.groups.keys()"
   ]
  },
  {
   "cell_type": "code",
   "execution_count": null,
   "metadata": {},
   "outputs": [],
   "source": []
  },
  {
   "cell_type": "code",
   "execution_count": 34,
   "metadata": {},
   "outputs": [
    {
     "data": {
      "text/html": [
       "<div>\n",
       "<style scoped>\n",
       "    .dataframe tbody tr th:only-of-type {\n",
       "        vertical-align: middle;\n",
       "    }\n",
       "\n",
       "    .dataframe tbody tr th {\n",
       "        vertical-align: top;\n",
       "    }\n",
       "\n",
       "    .dataframe thead th {\n",
       "        text-align: right;\n",
       "    }\n",
       "</style>\n",
       "<table border=\"1\" class=\"dataframe\">\n",
       "  <thead>\n",
       "    <tr style=\"text-align: right;\">\n",
       "      <th></th>\n",
       "      <th>CUSIP_ID</th>\n",
       "      <th>yld_pt</th>\n",
       "      <th>trd_exctn_dt</th>\n",
       "      <th>trd_exctn_tm</th>\n",
       "    </tr>\n",
       "  </thead>\n",
       "  <tbody>\n",
       "    <tr>\n",
       "      <th>891064</th>\n",
       "      <td>00077TAB0</td>\n",
       "      <td>6.608047</td>\n",
       "      <td>2015-01-05</td>\n",
       "      <td>14:27:45</td>\n",
       "    </tr>\n",
       "    <tr>\n",
       "      <th>891066</th>\n",
       "      <td>00077TAB0</td>\n",
       "      <td>6.842175</td>\n",
       "      <td>2015-01-06</td>\n",
       "      <td>10:23:34</td>\n",
       "    </tr>\n",
       "    <tr>\n",
       "      <th>891068</th>\n",
       "      <td>00077TAB0</td>\n",
       "      <td>7.002821</td>\n",
       "      <td>2015-02-17</td>\n",
       "      <td>11:24:15</td>\n",
       "    </tr>\n",
       "    <tr>\n",
       "      <th>101170</th>\n",
       "      <td>00077TAB0</td>\n",
       "      <td>6.816467</td>\n",
       "      <td>2015-03-31</td>\n",
       "      <td>14:59:18</td>\n",
       "    </tr>\n",
       "    <tr>\n",
       "      <th>101172</th>\n",
       "      <td>00077TAB0</td>\n",
       "      <td>6.029157</td>\n",
       "      <td>2015-04-24</td>\n",
       "      <td>12:10:55</td>\n",
       "    </tr>\n",
       "    <tr>\n",
       "      <th>101173</th>\n",
       "      <td>00077TAB0</td>\n",
       "      <td>6.404942</td>\n",
       "      <td>2015-06-04</td>\n",
       "      <td>11:17:07</td>\n",
       "    </tr>\n",
       "    <tr>\n",
       "      <th>101174</th>\n",
       "      <td>00077TAB0</td>\n",
       "      <td>6.492385</td>\n",
       "      <td>2015-06-10</td>\n",
       "      <td>11:09:56</td>\n",
       "    </tr>\n",
       "    <tr>\n",
       "      <th>101177</th>\n",
       "      <td>00077TAB0</td>\n",
       "      <td>6.901996</td>\n",
       "      <td>2015-07-07</td>\n",
       "      <td>14:35:19</td>\n",
       "    </tr>\n",
       "    <tr>\n",
       "      <th>101192</th>\n",
       "      <td>00077TAB0</td>\n",
       "      <td>6.983620</td>\n",
       "      <td>2015-07-22</td>\n",
       "      <td>16:53:00</td>\n",
       "    </tr>\n",
       "    <tr>\n",
       "      <th>101194</th>\n",
       "      <td>00077TAB0</td>\n",
       "      <td>6.356157</td>\n",
       "      <td>2015-10-26</td>\n",
       "      <td>12:17:34</td>\n",
       "    </tr>\n",
       "    <tr>\n",
       "      <th>101195</th>\n",
       "      <td>00077TAB0</td>\n",
       "      <td>7.815135</td>\n",
       "      <td>2016-01-13</td>\n",
       "      <td>13:54:12</td>\n",
       "    </tr>\n",
       "    <tr>\n",
       "      <th>101197</th>\n",
       "      <td>00077TAB0</td>\n",
       "      <td>7.126389</td>\n",
       "      <td>2016-02-03</td>\n",
       "      <td>09:54:43</td>\n",
       "    </tr>\n",
       "    <tr>\n",
       "      <th>101200</th>\n",
       "      <td>00077TAB0</td>\n",
       "      <td>7.156942</td>\n",
       "      <td>2016-07-13</td>\n",
       "      <td>15:56:01</td>\n",
       "    </tr>\n",
       "    <tr>\n",
       "      <th>101203</th>\n",
       "      <td>00077TAB0</td>\n",
       "      <td>6.405120</td>\n",
       "      <td>2016-09-09</td>\n",
       "      <td>09:54:12</td>\n",
       "    </tr>\n",
       "    <tr>\n",
       "      <th>101205</th>\n",
       "      <td>00077TAB0</td>\n",
       "      <td>7.060839</td>\n",
       "      <td>2016-10-13</td>\n",
       "      <td>12:12:18</td>\n",
       "    </tr>\n",
       "    <tr>\n",
       "      <th>101208</th>\n",
       "      <td>00077TAB0</td>\n",
       "      <td>7.050131</td>\n",
       "      <td>2016-10-24</td>\n",
       "      <td>11:16:17</td>\n",
       "    </tr>\n",
       "    <tr>\n",
       "      <th>101210</th>\n",
       "      <td>00077TAB0</td>\n",
       "      <td>6.661874</td>\n",
       "      <td>2016-11-07</td>\n",
       "      <td>10:08:34</td>\n",
       "    </tr>\n",
       "    <tr>\n",
       "      <th>101212</th>\n",
       "      <td>00077TAB0</td>\n",
       "      <td>7.691116</td>\n",
       "      <td>2016-11-21</td>\n",
       "      <td>10:39:31</td>\n",
       "    </tr>\n",
       "    <tr>\n",
       "      <th>101215</th>\n",
       "      <td>00077TAB0</td>\n",
       "      <td>7.127901</td>\n",
       "      <td>2016-11-30</td>\n",
       "      <td>16:03:20</td>\n",
       "    </tr>\n",
       "    <tr>\n",
       "      <th>101217</th>\n",
       "      <td>00077TAB0</td>\n",
       "      <td>7.095580</td>\n",
       "      <td>2017-02-21</td>\n",
       "      <td>15:07:16</td>\n",
       "    </tr>\n",
       "    <tr>\n",
       "      <th>101218</th>\n",
       "      <td>00077TAB0</td>\n",
       "      <td>5.056698</td>\n",
       "      <td>2017-04-26</td>\n",
       "      <td>12:18:44</td>\n",
       "    </tr>\n",
       "    <tr>\n",
       "      <th>101219</th>\n",
       "      <td>00077TAB0</td>\n",
       "      <td>5.075557</td>\n",
       "      <td>2017-04-27</td>\n",
       "      <td>10:35:24</td>\n",
       "    </tr>\n",
       "    <tr>\n",
       "      <th>101220</th>\n",
       "      <td>00077TAB0</td>\n",
       "      <td>5.056503</td>\n",
       "      <td>2017-05-15</td>\n",
       "      <td>08:17:23</td>\n",
       "    </tr>\n",
       "    <tr>\n",
       "      <th>101221</th>\n",
       "      <td>00077TAB0</td>\n",
       "      <td>4.982207</td>\n",
       "      <td>2017-05-17</td>\n",
       "      <td>11:25:59</td>\n",
       "    </tr>\n",
       "    <tr>\n",
       "      <th>101223</th>\n",
       "      <td>00077TAB0</td>\n",
       "      <td>4.982186</td>\n",
       "      <td>2017-05-19</td>\n",
       "      <td>07:52:33</td>\n",
       "    </tr>\n",
       "    <tr>\n",
       "      <th>101224</th>\n",
       "      <td>00077TAB0</td>\n",
       "      <td>5.327666</td>\n",
       "      <td>2017-05-22</td>\n",
       "      <td>11:58:36</td>\n",
       "    </tr>\n",
       "    <tr>\n",
       "      <th>101227</th>\n",
       "      <td>00077TAB0</td>\n",
       "      <td>5.450286</td>\n",
       "      <td>2017-05-30</td>\n",
       "      <td>11:48:00</td>\n",
       "    </tr>\n",
       "    <tr>\n",
       "      <th>101230</th>\n",
       "      <td>00077TAB0</td>\n",
       "      <td>5.288855</td>\n",
       "      <td>2017-06-01</td>\n",
       "      <td>12:08:08</td>\n",
       "    </tr>\n",
       "    <tr>\n",
       "      <th>101231</th>\n",
       "      <td>00077TAB0</td>\n",
       "      <td>5.243308</td>\n",
       "      <td>2017-06-06</td>\n",
       "      <td>11:43:38</td>\n",
       "    </tr>\n",
       "    <tr>\n",
       "      <th>101232</th>\n",
       "      <td>00077TAB0</td>\n",
       "      <td>4.993223</td>\n",
       "      <td>2017-06-16</td>\n",
       "      <td>13:30:42</td>\n",
       "    </tr>\n",
       "    <tr>\n",
       "      <th>101236</th>\n",
       "      <td>00077TAB0</td>\n",
       "      <td>5.151789</td>\n",
       "      <td>2017-06-27</td>\n",
       "      <td>12:12:00</td>\n",
       "    </tr>\n",
       "    <tr>\n",
       "      <th>101241</th>\n",
       "      <td>00077TAB0</td>\n",
       "      <td>5.165521</td>\n",
       "      <td>2017-07-19</td>\n",
       "      <td>12:06:42</td>\n",
       "    </tr>\n",
       "    <tr>\n",
       "      <th>101244</th>\n",
       "      <td>00077TAB0</td>\n",
       "      <td>5.020352</td>\n",
       "      <td>2017-08-30</td>\n",
       "      <td>16:04:17</td>\n",
       "    </tr>\n",
       "    <tr>\n",
       "      <th>101246</th>\n",
       "      <td>00077TAB0</td>\n",
       "      <td>5.266048</td>\n",
       "      <td>2017-09-14</td>\n",
       "      <td>13:51:00</td>\n",
       "    </tr>\n",
       "    <tr>\n",
       "      <th>101248</th>\n",
       "      <td>00077TAB0</td>\n",
       "      <td>5.055978</td>\n",
       "      <td>2017-09-20</td>\n",
       "      <td>12:12:00</td>\n",
       "    </tr>\n",
       "    <tr>\n",
       "      <th>101250</th>\n",
       "      <td>00077TAB0</td>\n",
       "      <td>5.046612</td>\n",
       "      <td>2017-09-29</td>\n",
       "      <td>10:52:32</td>\n",
       "    </tr>\n",
       "    <tr>\n",
       "      <th>101252</th>\n",
       "      <td>00077TAB0</td>\n",
       "      <td>5.056046</td>\n",
       "      <td>2017-10-11</td>\n",
       "      <td>09:17:13</td>\n",
       "    </tr>\n",
       "    <tr>\n",
       "      <th>101254</th>\n",
       "      <td>00077TAB0</td>\n",
       "      <td>5.065454</td>\n",
       "      <td>2017-10-13</td>\n",
       "      <td>10:51:35</td>\n",
       "    </tr>\n",
       "    <tr>\n",
       "      <th>101256</th>\n",
       "      <td>00077TAB0</td>\n",
       "      <td>5.055614</td>\n",
       "      <td>2017-11-17</td>\n",
       "      <td>10:03:32</td>\n",
       "    </tr>\n",
       "    <tr>\n",
       "      <th>101262</th>\n",
       "      <td>00077TAB0</td>\n",
       "      <td>5.055604</td>\n",
       "      <td>2017-11-20</td>\n",
       "      <td>09:35:51</td>\n",
       "    </tr>\n",
       "    <tr>\n",
       "      <th>101267</th>\n",
       "      <td>00077TAB0</td>\n",
       "      <td>5.250523</td>\n",
       "      <td>2017-12-05</td>\n",
       "      <td>15:08:51</td>\n",
       "    </tr>\n",
       "    <tr>\n",
       "      <th>101270</th>\n",
       "      <td>00077TAB0</td>\n",
       "      <td>5.290617</td>\n",
       "      <td>2017-12-19</td>\n",
       "      <td>12:20:25</td>\n",
       "    </tr>\n",
       "  </tbody>\n",
       "</table>\n",
       "</div>"
      ],
      "text/plain": [
       "         CUSIP_ID    yld_pt trd_exctn_dt trd_exctn_tm\n",
       "891064  00077TAB0  6.608047   2015-01-05     14:27:45\n",
       "891066  00077TAB0  6.842175   2015-01-06     10:23:34\n",
       "891068  00077TAB0  7.002821   2015-02-17     11:24:15\n",
       "101170  00077TAB0  6.816467   2015-03-31     14:59:18\n",
       "101172  00077TAB0  6.029157   2015-04-24     12:10:55\n",
       "101173  00077TAB0  6.404942   2015-06-04     11:17:07\n",
       "101174  00077TAB0  6.492385   2015-06-10     11:09:56\n",
       "101177  00077TAB0  6.901996   2015-07-07     14:35:19\n",
       "101192  00077TAB0  6.983620   2015-07-22     16:53:00\n",
       "101194  00077TAB0  6.356157   2015-10-26     12:17:34\n",
       "101195  00077TAB0  7.815135   2016-01-13     13:54:12\n",
       "101197  00077TAB0  7.126389   2016-02-03     09:54:43\n",
       "101200  00077TAB0  7.156942   2016-07-13     15:56:01\n",
       "101203  00077TAB0  6.405120   2016-09-09     09:54:12\n",
       "101205  00077TAB0  7.060839   2016-10-13     12:12:18\n",
       "101208  00077TAB0  7.050131   2016-10-24     11:16:17\n",
       "101210  00077TAB0  6.661874   2016-11-07     10:08:34\n",
       "101212  00077TAB0  7.691116   2016-11-21     10:39:31\n",
       "101215  00077TAB0  7.127901   2016-11-30     16:03:20\n",
       "101217  00077TAB0  7.095580   2017-02-21     15:07:16\n",
       "101218  00077TAB0  5.056698   2017-04-26     12:18:44\n",
       "101219  00077TAB0  5.075557   2017-04-27     10:35:24\n",
       "101220  00077TAB0  5.056503   2017-05-15     08:17:23\n",
       "101221  00077TAB0  4.982207   2017-05-17     11:25:59\n",
       "101223  00077TAB0  4.982186   2017-05-19     07:52:33\n",
       "101224  00077TAB0  5.327666   2017-05-22     11:58:36\n",
       "101227  00077TAB0  5.450286   2017-05-30     11:48:00\n",
       "101230  00077TAB0  5.288855   2017-06-01     12:08:08\n",
       "101231  00077TAB0  5.243308   2017-06-06     11:43:38\n",
       "101232  00077TAB0  4.993223   2017-06-16     13:30:42\n",
       "101236  00077TAB0  5.151789   2017-06-27     12:12:00\n",
       "101241  00077TAB0  5.165521   2017-07-19     12:06:42\n",
       "101244  00077TAB0  5.020352   2017-08-30     16:04:17\n",
       "101246  00077TAB0  5.266048   2017-09-14     13:51:00\n",
       "101248  00077TAB0  5.055978   2017-09-20     12:12:00\n",
       "101250  00077TAB0  5.046612   2017-09-29     10:52:32\n",
       "101252  00077TAB0  5.056046   2017-10-11     09:17:13\n",
       "101254  00077TAB0  5.065454   2017-10-13     10:51:35\n",
       "101256  00077TAB0  5.055614   2017-11-17     10:03:32\n",
       "101262  00077TAB0  5.055604   2017-11-20     09:35:51\n",
       "101267  00077TAB0  5.250523   2017-12-05     15:08:51\n",
       "101270  00077TAB0  5.290617   2017-12-19     12:20:25"
      ]
     },
     "execution_count": 34,
     "metadata": {},
     "output_type": "execute_result"
    }
   ],
   "source": [
    "Grouped.get_group('00077TAB0')"
   ]
  },
  {
   "cell_type": "code",
   "execution_count": 70,
   "metadata": {},
   "outputs": [
    {
     "name": "stdout",
     "output_type": "stream",
     "text": [
      "<class 'pandas.core.frame.DataFrame'>\n",
      "Int64Index: 113786 entries, 891064 to 3421\n",
      "Data columns (total 4 columns):\n",
      " #   Column        Non-Null Count   Dtype         \n",
      "---  ------        --------------   -----         \n",
      " 0   CUSIP_ID      113786 non-null  object        \n",
      " 1   yld_pt        113786 non-null  float64       \n",
      " 2   trd_exctn_dt  113786 non-null  datetime64[ns]\n",
      " 3   trd_exctn_tm  113786 non-null  object        \n",
      "dtypes: datetime64[ns](1), float64(1), object(2)\n",
      "memory usage: 4.3+ MB\n"
     ]
    }
   ],
   "source": [
    "df3.info()"
   ]
  },
  {
   "cell_type": "code",
   "execution_count": 174,
   "metadata": {},
   "outputs": [
    {
     "data": {
      "text/html": [
       "<div>\n",
       "<style scoped>\n",
       "    .dataframe tbody tr th:only-of-type {\n",
       "        vertical-align: middle;\n",
       "    }\n",
       "\n",
       "    .dataframe tbody tr th {\n",
       "        vertical-align: top;\n",
       "    }\n",
       "\n",
       "    .dataframe thead th {\n",
       "        text-align: right;\n",
       "    }\n",
       "</style>\n",
       "<table border=\"1\" class=\"dataframe\">\n",
       "  <thead>\n",
       "    <tr style=\"text-align: right;\">\n",
       "      <th></th>\n",
       "      <th></th>\n",
       "      <th>yld_pt</th>\n",
       "      <th>trd_exctn_tm</th>\n",
       "    </tr>\n",
       "    <tr>\n",
       "      <th>CUSIP_ID</th>\n",
       "      <th>trd_exctn_dt</th>\n",
       "      <th></th>\n",
       "      <th></th>\n",
       "    </tr>\n",
       "  </thead>\n",
       "  <tbody>\n",
       "    <tr>\n",
       "      <th rowspan=\"5\" valign=\"top\">00077TAB0</th>\n",
       "      <th>2015-01-05</th>\n",
       "      <td>6.608047</td>\n",
       "      <td>14:27:45</td>\n",
       "    </tr>\n",
       "    <tr>\n",
       "      <th>2015-01-06</th>\n",
       "      <td>6.842175</td>\n",
       "      <td>10:23:34</td>\n",
       "    </tr>\n",
       "    <tr>\n",
       "      <th>2015-02-17</th>\n",
       "      <td>7.002821</td>\n",
       "      <td>11:24:15</td>\n",
       "    </tr>\n",
       "    <tr>\n",
       "      <th>2015-03-31</th>\n",
       "      <td>6.816467</td>\n",
       "      <td>14:59:18</td>\n",
       "    </tr>\n",
       "    <tr>\n",
       "      <th>2015-04-24</th>\n",
       "      <td>6.029157</td>\n",
       "      <td>12:10:55</td>\n",
       "    </tr>\n",
       "    <tr>\n",
       "      <th>...</th>\n",
       "      <th>...</th>\n",
       "      <td>...</td>\n",
       "      <td>...</td>\n",
       "    </tr>\n",
       "    <tr>\n",
       "      <th rowspan=\"5\" valign=\"top\">98934KAB6</th>\n",
       "      <th>2017-11-22</th>\n",
       "      <td>2.936286</td>\n",
       "      <td>09:27:49</td>\n",
       "    </tr>\n",
       "    <tr>\n",
       "      <th>2017-11-28</th>\n",
       "      <td>2.865028</td>\n",
       "      <td>08:08:18</td>\n",
       "    </tr>\n",
       "    <tr>\n",
       "      <th>2017-11-30</th>\n",
       "      <td>2.971758</td>\n",
       "      <td>17:23:00</td>\n",
       "    </tr>\n",
       "    <tr>\n",
       "      <th>2017-12-04</th>\n",
       "      <td>3.210928</td>\n",
       "      <td>09:27:55</td>\n",
       "    </tr>\n",
       "    <tr>\n",
       "      <th>2017-12-19</th>\n",
       "      <td>2.960962</td>\n",
       "      <td>12:22:55</td>\n",
       "    </tr>\n",
       "  </tbody>\n",
       "</table>\n",
       "<p>113786 rows × 2 columns</p>\n",
       "</div>"
      ],
      "text/plain": [
       "                          yld_pt trd_exctn_tm\n",
       "CUSIP_ID  trd_exctn_dt                       \n",
       "00077TAB0 2015-01-05    6.608047     14:27:45\n",
       "          2015-01-06    6.842175     10:23:34\n",
       "          2015-02-17    7.002821     11:24:15\n",
       "          2015-03-31    6.816467     14:59:18\n",
       "          2015-04-24    6.029157     12:10:55\n",
       "...                          ...          ...\n",
       "98934KAB6 2017-11-22    2.936286     09:27:49\n",
       "          2017-11-28    2.865028     08:08:18\n",
       "          2017-11-30    2.971758     17:23:00\n",
       "          2017-12-04    3.210928     09:27:55\n",
       "          2017-12-19    2.960962     12:22:55\n",
       "\n",
       "[113786 rows x 2 columns]"
      ]
     },
     "execution_count": 174,
     "metadata": {},
     "output_type": "execute_result"
    }
   ],
   "source": [
    "df4_1 = df4.set_index(['CUSIP_ID', 'trd_exctn_dt'])\n",
    "df4_1"
   ]
  },
  {
   "cell_type": "code",
   "execution_count": null,
   "metadata": {},
   "outputs": [],
   "source": []
  },
  {
   "cell_type": "code",
   "execution_count": 177,
   "metadata": {},
   "outputs": [
    {
     "data": {
      "text/plain": [
       "CUSIP_ID   trd_exctn_dt\n",
       "00077TAB0  2015-01-05      1\n",
       "           2015-01-06      1\n",
       "           2015-02-17      1\n",
       "           2015-03-31      1\n",
       "           2015-04-24      1\n",
       "                          ..\n",
       "98934KAB6  2017-11-22      1\n",
       "           2017-11-28      1\n",
       "           2017-11-30      1\n",
       "           2017-12-04      1\n",
       "           2017-12-19      1\n",
       "Length: 113786, dtype: int64"
      ]
     },
     "execution_count": 177,
     "metadata": {},
     "output_type": "execute_result"
    }
   ],
   "source": [
    "df4_1 = df4_1.groupby(['CUSIP_ID', 'trd_exctn_dt']).size()\n",
    "df4_1"
   ]
  },
  {
   "cell_type": "code",
   "execution_count": 119,
   "metadata": {},
   "outputs": [],
   "source": [
    "#for bond, CUSIP_ID in df4_1:\n",
    "  #  print(bond)\n",
    "   # print(CUSIP_ID)"
   ]
  },
  {
   "cell_type": "code",
   "execution_count": null,
   "metadata": {},
   "outputs": [],
   "source": []
  },
  {
   "cell_type": "code",
   "execution_count": null,
   "metadata": {},
   "outputs": [],
   "source": [
    "\n"
   ]
  },
  {
   "cell_type": "code",
   "execution_count": null,
   "metadata": {},
   "outputs": [],
   "source": []
  },
  {
   "cell_type": "code",
   "execution_count": null,
   "metadata": {},
   "outputs": [],
   "source": []
  },
  {
   "cell_type": "code",
   "execution_count": null,
   "metadata": {},
   "outputs": [],
   "source": []
  },
  {
   "cell_type": "code",
   "execution_count": null,
   "metadata": {},
   "outputs": [],
   "source": []
  },
  {
   "cell_type": "code",
   "execution_count": null,
   "metadata": {},
   "outputs": [],
   "source": []
  },
  {
   "cell_type": "markdown",
   "metadata": {},
   "source": [
    "1b 180 day stock return volatility"
   ]
  },
  {
   "cell_type": "markdown",
   "metadata": {},
   "source": []
  },
  {
   "cell_type": "code",
   "execution_count": null,
   "metadata": {
    "scrolled": true
   },
   "outputs": [],
   "source": []
  },
  {
   "cell_type": "code",
   "execution_count": null,
   "metadata": {},
   "outputs": [],
   "source": []
  },
  {
   "cell_type": "code",
   "execution_count": null,
   "metadata": {},
   "outputs": [],
   "source": []
  },
  {
   "cell_type": "code",
   "execution_count": 34,
   "metadata": {},
   "outputs": [
    {
     "ename": "SyntaxError",
     "evalue": "invalid syntax (<ipython-input-34-973160ca8550>, line 2)",
     "output_type": "error",
     "traceback": [
      "\u001b[1;36m  File \u001b[1;32m\"<ipython-input-34-973160ca8550>\"\u001b[1;36m, line \u001b[1;32m2\u001b[0m\n\u001b[1;33m    select cusip, permno, permco, date, ret\u001b[0m\n\u001b[1;37m           ^\u001b[0m\n\u001b[1;31mSyntaxError\u001b[0m\u001b[1;31m:\u001b[0m invalid syntax\n"
     ]
    }
   ],
   "source": [
    "#stmt2=\"\"\"\n",
    "select cusip, permno, permco, date, ret\n",
    "from crsp.dsf\n",
    "where permno = 'list_of_permno'\n",
    "and (date between '2015-01-01' and '2017-07-01')\n",
    "\"\"\"\n",
    "# conn.raw_sql(stmt2)"
   ]
  },
  {
   "cell_type": "markdown",
   "metadata": {},
   "source": [
    "Using permco I have found stock return of the bonds using CRSP dsf"
   ]
  },
  {
   "cell_type": "code",
   "execution_count": 67,
   "metadata": {},
   "outputs": [
    {
     "name": "stderr",
     "output_type": "stream",
     "text": [
      "C:\\Users\\Henry\\AppData\\Roaming\\Python\\Python39\\site-packages\\IPython\\core\\interactiveshell.py:3146: DtypeWarning: Columns (3) have mixed types.Specify dtype option on import or set low_memory=False.\n",
      "  has_raised = await self.run_ast_nodes(code_ast.body, cell_name,\n"
     ]
    },
    {
     "data": {
      "text/html": [
       "<div>\n",
       "<style scoped>\n",
       "    .dataframe tbody tr th:only-of-type {\n",
       "        vertical-align: middle;\n",
       "    }\n",
       "\n",
       "    .dataframe tbody tr th {\n",
       "        vertical-align: top;\n",
       "    }\n",
       "\n",
       "    .dataframe thead th {\n",
       "        text-align: right;\n",
       "    }\n",
       "</style>\n",
       "<table border=\"1\" class=\"dataframe\">\n",
       "  <thead>\n",
       "    <tr style=\"text-align: right;\">\n",
       "      <th></th>\n",
       "      <th>PERMNO</th>\n",
       "      <th>date</th>\n",
       "      <th>PERMCO</th>\n",
       "      <th>RET</th>\n",
       "    </tr>\n",
       "  </thead>\n",
       "  <tbody>\n",
       "    <tr>\n",
       "      <th>0</th>\n",
       "      <td>14593</td>\n",
       "      <td>2013-01-02</td>\n",
       "      <td>7</td>\n",
       "      <td>0.031676</td>\n",
       "    </tr>\n",
       "    <tr>\n",
       "      <th>1</th>\n",
       "      <td>14593</td>\n",
       "      <td>2013-01-03</td>\n",
       "      <td>7</td>\n",
       "      <td>-0.01263</td>\n",
       "    </tr>\n",
       "    <tr>\n",
       "      <th>2</th>\n",
       "      <td>14593</td>\n",
       "      <td>2013-01-04</td>\n",
       "      <td>7</td>\n",
       "      <td>-0.027847</td>\n",
       "    </tr>\n",
       "    <tr>\n",
       "      <th>3</th>\n",
       "      <td>14593</td>\n",
       "      <td>2013-01-07</td>\n",
       "      <td>7</td>\n",
       "      <td>-0.005882</td>\n",
       "    </tr>\n",
       "    <tr>\n",
       "      <th>4</th>\n",
       "      <td>14593</td>\n",
       "      <td>2013-01-08</td>\n",
       "      <td>7</td>\n",
       "      <td>0.002691</td>\n",
       "    </tr>\n",
       "    <tr>\n",
       "      <th>...</th>\n",
       "      <td>...</td>\n",
       "      <td>...</td>\n",
       "      <td>...</td>\n",
       "      <td>...</td>\n",
       "    </tr>\n",
       "    <tr>\n",
       "      <th>267065</th>\n",
       "      <td>16851</td>\n",
       "      <td>2019-12-24</td>\n",
       "      <td>56027</td>\n",
       "      <td>-0.00219</td>\n",
       "    </tr>\n",
       "    <tr>\n",
       "      <th>267066</th>\n",
       "      <td>16851</td>\n",
       "      <td>2019-12-26</td>\n",
       "      <td>56027</td>\n",
       "      <td>-0.000784</td>\n",
       "    </tr>\n",
       "    <tr>\n",
       "      <th>267067</th>\n",
       "      <td>16851</td>\n",
       "      <td>2019-12-27</td>\n",
       "      <td>56027</td>\n",
       "      <td>0</td>\n",
       "    </tr>\n",
       "    <tr>\n",
       "      <th>267068</th>\n",
       "      <td>16851</td>\n",
       "      <td>2019-12-30</td>\n",
       "      <td>56027</td>\n",
       "      <td>-0.022595</td>\n",
       "    </tr>\n",
       "    <tr>\n",
       "      <th>267069</th>\n",
       "      <td>16851</td>\n",
       "      <td>2019-12-31</td>\n",
       "      <td>56027</td>\n",
       "      <td>0.030663</td>\n",
       "    </tr>\n",
       "  </tbody>\n",
       "</table>\n",
       "<p>267070 rows × 4 columns</p>\n",
       "</div>"
      ],
      "text/plain": [
       "        PERMNO        date  PERMCO        RET\n",
       "0        14593  2013-01-02       7   0.031676\n",
       "1        14593  2013-01-03       7   -0.01263\n",
       "2        14593  2013-01-04       7  -0.027847\n",
       "3        14593  2013-01-07       7  -0.005882\n",
       "4        14593  2013-01-08       7   0.002691\n",
       "...        ...         ...     ...        ...\n",
       "267065   16851  2019-12-24   56027   -0.00219\n",
       "267066   16851  2019-12-26   56027  -0.000784\n",
       "267067   16851  2019-12-27   56027          0\n",
       "267068   16851  2019-12-30   56027  -0.022595\n",
       "267069   16851  2019-12-31   56027   0.030663\n",
       "\n",
       "[267070 rows x 4 columns]"
      ]
     },
     "execution_count": 67,
     "metadata": {},
     "output_type": "execute_result"
    }
   ],
   "source": [
    "dfret=pd.read_csv(r'C:\\Users\\Henry\\OneDrive\\Desktop\\ACF\\AcF351b\\permco_ret.csv', encoding='utf-8-sig')\n",
    "dfret"
   ]
  },
  {
   "cell_type": "code",
   "execution_count": 66,
   "metadata": {},
   "outputs": [],
   "source": [
    "#dfret.columns = dfret.columns.str.strip()\n",
    "#dfret.columns"
   ]
  },
  {
   "cell_type": "code",
   "execution_count": 68,
   "metadata": {},
   "outputs": [],
   "source": [
    "#Changed data type into appriopriate types\n",
    "dfret['date']= pd.to_datetime(dfret['date'])\n",
    "dfret['RET'] = pd.to_numeric(dfret['RET'], errors='coerce')"
   ]
  },
  {
   "cell_type": "code",
   "execution_count": 69,
   "metadata": {},
   "outputs": [],
   "source": [
    "dfret = dfret[dfret['RET'].notna()] #dropped rows with no numbers in return column"
   ]
  },
  {
   "cell_type": "code",
   "execution_count": 7,
   "metadata": {},
   "outputs": [
    {
     "name": "stdout",
     "output_type": "stream",
     "text": [
      "<class 'pandas.core.frame.DataFrame'>\n",
      "Int64Index: 267034 entries, 0 to 267069\n",
      "Data columns (total 4 columns):\n",
      " #   Column  Non-Null Count   Dtype         \n",
      "---  ------  --------------   -----         \n",
      " 0   PERMNO  267034 non-null  int64         \n",
      " 1   date    267034 non-null  datetime64[ns]\n",
      " 2   PERMCO  267034 non-null  int64         \n",
      " 3   RET     267034 non-null  float64       \n",
      "dtypes: datetime64[ns](1), float64(1), int64(2)\n",
      "memory usage: 10.2 MB\n"
     ]
    }
   ],
   "source": [
    "dfret.info()"
   ]
  },
  {
   "cell_type": "code",
   "execution_count": 87,
   "metadata": {},
   "outputs": [
    {
     "data": {
      "text/plain": [
       "<pandas.core.groupby.generic.DataFrameGroupBy object at 0x000001F307261940>"
      ]
     },
     "execution_count": 87,
     "metadata": {},
     "output_type": "execute_result"
    }
   ],
   "source": [
    "Permgroups = dfret.groupby('PERMNO', as_index=False)\n",
    "Permgroups"
   ]
  },
  {
   "cell_type": "code",
   "execution_count": 63,
   "metadata": {},
   "outputs": [],
   "source": [
    "#Permgroups.groups.keys() to find all the keys"
   ]
  },
  {
   "cell_type": "code",
   "execution_count": 64,
   "metadata": {},
   "outputs": [],
   "source": [
    "#Permgroups.get_group(10145) #to get a group"
   ]
  },
  {
   "cell_type": "code",
   "execution_count": null,
   "metadata": {},
   "outputs": [],
   "source": []
  },
  {
   "cell_type": "code",
   "execution_count": 95,
   "metadata": {},
   "outputs": [
    {
     "data": {
      "text/plain": [
       "PERMNO        \n",
       "10145   185819         NaN\n",
       "        185820         NaN\n",
       "        185821         NaN\n",
       "        185822         NaN\n",
       "        185823         NaN\n",
       "                    ...   \n",
       "93013   252669    0.015193\n",
       "        252670    0.015193\n",
       "        252671    0.015195\n",
       "        252672    0.015201\n",
       "        252673    0.015196\n",
       "Name: RET, Length: 267034, dtype: float64"
      ]
     },
     "execution_count": 95,
     "metadata": {},
     "output_type": "execute_result"
    }
   ],
   "source": [
    "dfstdev = dfret.groupby('PERMNO')['RET'].rolling(180).std()\n",
    "dfstdev"
   ]
  },
  {
   "cell_type": "code",
   "execution_count": 71,
   "metadata": {},
   "outputs": [],
   "source": [
    "dfstdev = dfstdev.dropna()"
   ]
  },
  {
   "cell_type": "code",
   "execution_count": 91,
   "metadata": {},
   "outputs": [
    {
     "data": {
      "text/plain": [
       "PERMNO        \n",
       "10145   185998    0.010378\n",
       "        185999    0.010288\n",
       "        186000    0.010363\n",
       "        186001    0.010348\n",
       "        186002    0.010347\n",
       "                    ...   \n",
       "93013   252669    0.015193\n",
       "        252670    0.015193\n",
       "        252671    0.015195\n",
       "        252672    0.015201\n",
       "        252673    0.015196\n",
       "Name: RET, Length: 237236, dtype: float64"
      ]
     },
     "execution_count": 91,
     "metadata": {},
     "output_type": "execute_result"
    }
   ],
   "source": [
    "dfstdev"
   ]
  },
  {
   "cell_type": "code",
   "execution_count": 94,
   "metadata": {},
   "outputs": [
    {
     "ename": "AttributeError",
     "evalue": "'Series' object has no attribute 'info'",
     "output_type": "error",
     "traceback": [
      "\u001b[1;31m---------------------------------------------------------------------------\u001b[0m",
      "\u001b[1;31mAttributeError\u001b[0m                            Traceback (most recent call last)",
      "\u001b[1;32m<ipython-input-94-c1a220b28cc7>\u001b[0m in \u001b[0;36m<module>\u001b[1;34m\u001b[0m\n\u001b[1;32m----> 1\u001b[1;33m \u001b[0mdfstdev\u001b[0m\u001b[1;33m.\u001b[0m\u001b[0minfo\u001b[0m\u001b[1;33m\u001b[0m\u001b[1;33m\u001b[0m\u001b[0m\n\u001b[0m",
      "\u001b[1;32mc:\\users\\henry\\appdata\\local\\programs\\python\\python39\\lib\\site-packages\\pandas\\core\\generic.py\u001b[0m in \u001b[0;36m__getattr__\u001b[1;34m(self, name)\u001b[0m\n\u001b[0;32m   5139\u001b[0m             \u001b[1;32mif\u001b[0m \u001b[0mself\u001b[0m\u001b[1;33m.\u001b[0m\u001b[0m_info_axis\u001b[0m\u001b[1;33m.\u001b[0m\u001b[0m_can_hold_identifiers_and_holds_name\u001b[0m\u001b[1;33m(\u001b[0m\u001b[0mname\u001b[0m\u001b[1;33m)\u001b[0m\u001b[1;33m:\u001b[0m\u001b[1;33m\u001b[0m\u001b[1;33m\u001b[0m\u001b[0m\n\u001b[0;32m   5140\u001b[0m                 \u001b[1;32mreturn\u001b[0m \u001b[0mself\u001b[0m\u001b[1;33m[\u001b[0m\u001b[0mname\u001b[0m\u001b[1;33m]\u001b[0m\u001b[1;33m\u001b[0m\u001b[1;33m\u001b[0m\u001b[0m\n\u001b[1;32m-> 5141\u001b[1;33m             \u001b[1;32mreturn\u001b[0m \u001b[0mobject\u001b[0m\u001b[1;33m.\u001b[0m\u001b[0m__getattribute__\u001b[0m\u001b[1;33m(\u001b[0m\u001b[0mself\u001b[0m\u001b[1;33m,\u001b[0m \u001b[0mname\u001b[0m\u001b[1;33m)\u001b[0m\u001b[1;33m\u001b[0m\u001b[1;33m\u001b[0m\u001b[0m\n\u001b[0m\u001b[0;32m   5142\u001b[0m \u001b[1;33m\u001b[0m\u001b[0m\n\u001b[0;32m   5143\u001b[0m     \u001b[1;32mdef\u001b[0m \u001b[0m__setattr__\u001b[0m\u001b[1;33m(\u001b[0m\u001b[0mself\u001b[0m\u001b[1;33m,\u001b[0m \u001b[0mname\u001b[0m\u001b[1;33m:\u001b[0m \u001b[0mstr\u001b[0m\u001b[1;33m,\u001b[0m \u001b[0mvalue\u001b[0m\u001b[1;33m)\u001b[0m \u001b[1;33m->\u001b[0m \u001b[1;32mNone\u001b[0m\u001b[1;33m:\u001b[0m\u001b[1;33m\u001b[0m\u001b[1;33m\u001b[0m\u001b[0m\n",
      "\u001b[1;31mAttributeError\u001b[0m: 'Series' object has no attribute 'info'"
     ]
    }
   ],
   "source": []
  },
  {
   "cell_type": "code",
   "execution_count": 65,
   "metadata": {},
   "outputs": [
    {
     "data": {
      "text/plain": [
       "185998    0.010378\n",
       "185999    0.010288\n",
       "186000    0.010363\n",
       "186001    0.010348\n",
       "186002    0.010347\n",
       "            ...   \n",
       "187576    0.011681\n",
       "187577    0.011674\n",
       "187578    0.011669\n",
       "187579    0.011650\n",
       "187580    0.011648\n",
       "Name: RET, Length: 1583, dtype: float64"
      ]
     },
     "execution_count": 65,
     "metadata": {},
     "output_type": "execute_result"
    }
   ],
   "source": [
    "dfstdev.get(10145) #get a group"
   ]
  },
  {
   "cell_type": "code",
   "execution_count": null,
   "metadata": {},
   "outputs": [],
   "source": []
  },
  {
   "cell_type": "code",
   "execution_count": null,
   "metadata": {},
   "outputs": [],
   "source": []
  },
  {
   "cell_type": "markdown",
   "metadata": {},
   "source": [
    "1d"
   ]
  },
  {
   "cell_type": "code",
   "execution_count": null,
   "metadata": {},
   "outputs": [],
   "source": [
    "dfrating=pd.read_csv(r'C:\\Users\\Henry\\OneDrive\\Desktop\\ACF\\AcF351b\\acf_351b_python_data.csv')\n",
    "dfrating.head()\n"
   ]
  },
  {
   "cell_type": "code",
   "execution_count": null,
   "metadata": {},
   "outputs": [],
   "source": []
  },
  {
   "cell_type": "markdown",
   "metadata": {},
   "source": [
    "1b attempt 2"
   ]
  },
  {
   "cell_type": "code",
   "execution_count": 78,
   "metadata": {},
   "outputs": [
    {
     "data": {
      "text/html": [
       "<div>\n",
       "<style scoped>\n",
       "    .dataframe tbody tr th:only-of-type {\n",
       "        vertical-align: middle;\n",
       "    }\n",
       "\n",
       "    .dataframe tbody tr th {\n",
       "        vertical-align: top;\n",
       "    }\n",
       "\n",
       "    .dataframe thead th {\n",
       "        text-align: right;\n",
       "    }\n",
       "</style>\n",
       "<table border=\"1\" class=\"dataframe\">\n",
       "  <thead>\n",
       "    <tr style=\"text-align: right;\">\n",
       "      <th></th>\n",
       "      <th>PERMNO</th>\n",
       "      <th>date</th>\n",
       "      <th>RET</th>\n",
       "    </tr>\n",
       "  </thead>\n",
       "  <tbody>\n",
       "    <tr>\n",
       "      <th>0</th>\n",
       "      <td>14593</td>\n",
       "      <td>2014-01-02</td>\n",
       "      <td>-0.014064</td>\n",
       "    </tr>\n",
       "    <tr>\n",
       "      <th>1</th>\n",
       "      <td>14593</td>\n",
       "      <td>2014-01-03</td>\n",
       "      <td>-0.021966</td>\n",
       "    </tr>\n",
       "    <tr>\n",
       "      <th>2</th>\n",
       "      <td>14593</td>\n",
       "      <td>2014-01-06</td>\n",
       "      <td>0.005453</td>\n",
       "    </tr>\n",
       "    <tr>\n",
       "      <th>3</th>\n",
       "      <td>14593</td>\n",
       "      <td>2014-01-07</td>\n",
       "      <td>-0.007156</td>\n",
       "    </tr>\n",
       "    <tr>\n",
       "      <th>4</th>\n",
       "      <td>14593</td>\n",
       "      <td>2014-01-08</td>\n",
       "      <td>0.006338</td>\n",
       "    </tr>\n",
       "    <tr>\n",
       "      <th>...</th>\n",
       "      <td>...</td>\n",
       "      <td>...</td>\n",
       "      <td>...</td>\n",
       "    </tr>\n",
       "    <tr>\n",
       "      <th>155592</th>\n",
       "      <td>16851</td>\n",
       "      <td>2017-12-22</td>\n",
       "      <td>0.006561</td>\n",
       "    </tr>\n",
       "    <tr>\n",
       "      <th>155593</th>\n",
       "      <td>16851</td>\n",
       "      <td>2017-12-26</td>\n",
       "      <td>-0.009291</td>\n",
       "    </tr>\n",
       "    <tr>\n",
       "      <th>155594</th>\n",
       "      <td>16851</td>\n",
       "      <td>2017-12-27</td>\n",
       "      <td>0</td>\n",
       "    </tr>\n",
       "    <tr>\n",
       "      <th>155595</th>\n",
       "      <td>16851</td>\n",
       "      <td>2017-12-28</td>\n",
       "      <td>0.00098</td>\n",
       "    </tr>\n",
       "    <tr>\n",
       "      <th>155596</th>\n",
       "      <td>16851</td>\n",
       "      <td>2017-12-29</td>\n",
       "      <td>-0.004055</td>\n",
       "    </tr>\n",
       "  </tbody>\n",
       "</table>\n",
       "<p>155597 rows × 3 columns</p>\n",
       "</div>"
      ],
      "text/plain": [
       "        PERMNO        date        RET\n",
       "0        14593  2014-01-02  -0.014064\n",
       "1        14593  2014-01-03  -0.021966\n",
       "2        14593  2014-01-06   0.005453\n",
       "3        14593  2014-01-07  -0.007156\n",
       "4        14593  2014-01-08   0.006338\n",
       "...        ...         ...        ...\n",
       "155592   16851  2017-12-22   0.006561\n",
       "155593   16851  2017-12-26  -0.009291\n",
       "155594   16851  2017-12-27          0\n",
       "155595   16851  2017-12-28    0.00098\n",
       "155596   16851  2017-12-29  -0.004055\n",
       "\n",
       "[155597 rows x 3 columns]"
      ]
     },
     "execution_count": 78,
     "metadata": {},
     "output_type": "execute_result"
    }
   ],
   "source": [
    "dfreturns=pd.read_csv(r'C:\\Users\\Henry\\OneDrive\\Desktop\\ACF\\AcF351b\\stock_return.csv')\n",
    "dfreturns"
   ]
  },
  {
   "cell_type": "code",
   "execution_count": 118,
   "metadata": {},
   "outputs": [
    {
     "name": "stdout",
     "output_type": "stream",
     "text": [
      "<class 'pandas.core.frame.DataFrame'>\n",
      "RangeIndex: 155597 entries, 0 to 155596\n",
      "Data columns (total 3 columns):\n",
      " #   Column  Non-Null Count   Dtype \n",
      "---  ------  --------------   ----- \n",
      " 0   PERMNO  155597 non-null  int64 \n",
      " 1   date    155597 non-null  object\n",
      " 2   RET     155582 non-null  object\n",
      "dtypes: int64(1), object(2)\n",
      "memory usage: 3.6+ MB\n"
     ]
    }
   ],
   "source": [
    "dfreturns.info()"
   ]
  },
  {
   "cell_type": "code",
   "execution_count": 79,
   "metadata": {},
   "outputs": [],
   "source": [
    "dfreturns['date']= pd.to_datetime(dfreturns['date'])\n",
    "dfreturns['RET'] = pd.to_numeric(dfreturns['RET'], errors='coerce')"
   ]
  },
  {
   "cell_type": "code",
   "execution_count": null,
   "metadata": {},
   "outputs": [],
   "source": []
  },
  {
   "cell_type": "code",
   "execution_count": 80,
   "metadata": {},
   "outputs": [],
   "source": [
    "dfreturns = dfreturns[dfreturns['RET'].notna()] #dropped rows with no numbers in return column\n"
   ]
  },
  {
   "cell_type": "code",
   "execution_count": 81,
   "metadata": {},
   "outputs": [
    {
     "data": {
      "text/plain": [
       "Index(['PERMNO', 'date', 'RET'], dtype='object')"
      ]
     },
     "execution_count": 81,
     "metadata": {},
     "output_type": "execute_result"
    }
   ],
   "source": [
    "dfreturns2 = dfreturns\n",
    "dfreturns2.keys()"
   ]
  },
  {
   "cell_type": "code",
   "execution_count": 82,
   "metadata": {},
   "outputs": [
    {
     "data": {
      "text/plain": [
       "<pandas.core.groupby.generic.DataFrameGroupBy object at 0x000001F30729E160>"
      ]
     },
     "execution_count": 82,
     "metadata": {},
     "output_type": "execute_result"
    }
   ],
   "source": [
    "Perm_Groups = dfreturns2.groupby(by=['PERMNO'], as_index=False)\n",
    "Perm_Groups"
   ]
  },
  {
   "cell_type": "code",
   "execution_count": 83,
   "metadata": {},
   "outputs": [
    {
     "data": {
      "text/plain": [
       "dict_keys([10145, 10890, 11600, 11703, 11850, 12060, 12369, 12431, 12490, 12558, 12622, 12781, 13598, 13688, 13856, 13901, 13928, 13963, 13964, 14465, 14541, 14558, 14593, 14889, 15054, 15553, 16678, 16851, 17005, 17144, 17478, 17778, 17830, 18163, 18411, 18542, 19166, 19350, 20053, 20415, 20626, 21186, 22517, 23042, 23393, 23931, 24109, 24205, 24328, 25081, 25320, 25785, 26403, 27828, 27887, 27959, 27983, 29890, 34746, 35044, 35167, 35554, 38703, 39642, 42906, 43553, 47896, 48486, 49154, 49656, 49680, 52708, 55976, 59176, 59408, 60097, 60206, 60442, 60506, 60599, 60986, 61735, 62383, 63714, 64486, 64936, 65875, 66093, 66157, 66181, 66800, 68144, 69032, 69761, 70332, 70519, 71563, 72696, 72726, 73809, 75064, 75152, 75381, 75418, 75811, 76076, 76221, 76592, 77157, 77178, 77274, 77462, 77661, 77730, 78877, 78977, 79210, 79363, 80072, 80112, 81055, 81677, 82775, 83443, 84129, 84776, 85592, 85888, 85913, 85994, 86305, 86356, 86868, 87033, 87137, 87842, 88197, 88239, 88597, 88822, 89006, 89014, 89154, 89179, 89195, 89199, 89238, 89329, 89330, 89731, 89900, 90401, 90441, 90442, 90601, 90776, 91103, 92121, 92355, 92467, 92597, 92602, 93013])"
      ]
     },
     "execution_count": 83,
     "metadata": {},
     "output_type": "execute_result"
    }
   ],
   "source": [
    "Perm_Groups.groups.keys()"
   ]
  },
  {
   "cell_type": "code",
   "execution_count": null,
   "metadata": {},
   "outputs": [],
   "source": []
  },
  {
   "cell_type": "code",
   "execution_count": null,
   "metadata": {},
   "outputs": [],
   "source": []
  },
  {
   "cell_type": "code",
   "execution_count": null,
   "metadata": {},
   "outputs": [],
   "source": []
  }
 ],
 "metadata": {
  "kernelspec": {
   "display_name": "Python 3",
   "language": "python",
   "name": "python3"
  },
  "language_info": {
   "codemirror_mode": {
    "name": "ipython",
    "version": 3
   },
   "file_extension": ".py",
   "mimetype": "text/x-python",
   "name": "python",
   "nbconvert_exporter": "python",
   "pygments_lexer": "ipython3",
   "version": "3.9.0"
  }
 },
 "nbformat": 4,
 "nbformat_minor": 4
}
